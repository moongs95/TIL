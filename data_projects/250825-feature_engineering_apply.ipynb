{
 "cells": [
  {
   "cell_type": "code",
   "execution_count": 1,
   "id": "7340fc8f-fdae-4633-b32d-66a5f14373a1",
   "metadata": {},
   "outputs": [
    {
     "data": {
      "text/plain": [
       "0       mom\n",
       "1       get\n",
       "2    pandas\n",
       "3     level\n",
       "dtype: object"
      ]
     },
     "execution_count": 1,
     "metadata": {},
     "output_type": "execute_result"
    }
   ],
   "source": [
    "import pandas as pd\n",
    "list1 = ['mom', 'get', 'pandas', 'level']\n",
    "s1 = pd.Series(list1)\n",
    "s2 = pd.Series(['1', '2', '3'])\n",
    "s1"
   ]
  },
  {
   "cell_type": "code",
   "execution_count": 2,
   "id": "207cc798-a460-4743-95d2-b2b596ed0c4e",
   "metadata": {},
   "outputs": [
    {
     "name": "stdout",
     "output_type": "stream",
     "text": [
      "6\n",
      "4\n",
      "[3, 3, 6, 5]\n"
     ]
    }
   ],
   "source": [
    "# 문자열의 길이를 반환한 리스트 생성\n",
    "print(len('python'))\n",
    "print(len(s1))\n",
    "\n",
    "print(list(map(len, list1))) #apply로 시리즈에 적용"
   ]
  },
  {
   "cell_type": "code",
   "execution_count": 3,
   "id": "1c74e970-63c4-4d9a-9729-94f9c1fe18a3",
   "metadata": {},
   "outputs": [
    {
     "data": {
      "text/plain": [
       "0    3\n",
       "1    3\n",
       "2    6\n",
       "3    5\n",
       "dtype: int64"
      ]
     },
     "execution_count": 3,
     "metadata": {},
     "output_type": "execute_result"
    }
   ],
   "source": [
    "s1.apply(len)"
   ]
  },
  {
   "cell_type": "code",
   "execution_count": 4,
   "id": "be0df805-7826-450a-8469-a62713aa0a36",
   "metadata": {},
   "outputs": [
    {
     "data": {
      "text/plain": [
       "0    1\n",
       "1    2\n",
       "2    3\n",
       "dtype: int64"
      ]
     },
     "execution_count": 4,
     "metadata": {},
     "output_type": "execute_result"
    }
   ],
   "source": [
    "s2.apply(int)"
   ]
  },
  {
   "cell_type": "code",
   "execution_count": 5,
   "id": "c9f04546-a004-4420-a4fd-fcb878bef2b3",
   "metadata": {},
   "outputs": [
    {
     "data": {
      "text/html": [
       "<div>\n",
       "<style scoped>\n",
       "    .dataframe tbody tr th:only-of-type {\n",
       "        vertical-align: middle;\n",
       "    }\n",
       "\n",
       "    .dataframe tbody tr th {\n",
       "        vertical-align: top;\n",
       "    }\n",
       "\n",
       "    .dataframe thead th {\n",
       "        text-align: right;\n",
       "    }\n",
       "</style>\n",
       "<table border=\"1\" class=\"dataframe\">\n",
       "  <thead>\n",
       "    <tr style=\"text-align: right;\">\n",
       "      <th></th>\n",
       "      <th>이름</th>\n",
       "      <th>답안</th>\n",
       "    </tr>\n",
       "  </thead>\n",
       "  <tbody>\n",
       "    <tr>\n",
       "      <th>0</th>\n",
       "      <td>강승주</td>\n",
       "      <td>mom</td>\n",
       "    </tr>\n",
       "    <tr>\n",
       "      <th>1</th>\n",
       "      <td>송중기</td>\n",
       "      <td>get</td>\n",
       "    </tr>\n",
       "    <tr>\n",
       "      <th>2</th>\n",
       "      <td>권보아</td>\n",
       "      <td>pandas</td>\n",
       "    </tr>\n",
       "    <tr>\n",
       "      <th>3</th>\n",
       "      <td>김판다</td>\n",
       "      <td>level</td>\n",
       "    </tr>\n",
       "  </tbody>\n",
       "</table>\n",
       "</div>"
      ],
      "text/plain": [
       "    이름      답안\n",
       "0  강승주     mom\n",
       "1  송중기     get\n",
       "2  권보아  pandas\n",
       "3  김판다   level"
      ]
     },
     "execution_count": 5,
     "metadata": {},
     "output_type": "execute_result"
    }
   ],
   "source": [
    "# apply\n",
    "# 5글자 이상의 회문을 답하라\n",
    "data = [['강승주', 'mom'], ['송중기', 'get'], \n",
    "        ['권보아', 'pandas'], ['김판다', 'level']]\n",
    "df = pd.DataFrame(data, columns=['이름', '답안'])\n",
    "df"
   ]
  },
  {
   "cell_type": "code",
   "execution_count": 6,
   "id": "33da39a2-bbdc-40eb-ab61-63813dfaf53f",
   "metadata": {},
   "outputs": [
    {
     "data": {
      "text/html": [
       "<div>\n",
       "<style scoped>\n",
       "    .dataframe tbody tr th:only-of-type {\n",
       "        vertical-align: middle;\n",
       "    }\n",
       "\n",
       "    .dataframe tbody tr th {\n",
       "        vertical-align: top;\n",
       "    }\n",
       "\n",
       "    .dataframe thead th {\n",
       "        text-align: right;\n",
       "    }\n",
       "</style>\n",
       "<table border=\"1\" class=\"dataframe\">\n",
       "  <thead>\n",
       "    <tr style=\"text-align: right;\">\n",
       "      <th></th>\n",
       "      <th>이름</th>\n",
       "      <th>답안</th>\n",
       "      <th>글자수</th>\n",
       "    </tr>\n",
       "  </thead>\n",
       "  <tbody>\n",
       "    <tr>\n",
       "      <th>0</th>\n",
       "      <td>강승주</td>\n",
       "      <td>mom</td>\n",
       "      <td>3</td>\n",
       "    </tr>\n",
       "    <tr>\n",
       "      <th>1</th>\n",
       "      <td>송중기</td>\n",
       "      <td>get</td>\n",
       "      <td>3</td>\n",
       "    </tr>\n",
       "    <tr>\n",
       "      <th>2</th>\n",
       "      <td>권보아</td>\n",
       "      <td>pandas</td>\n",
       "      <td>6</td>\n",
       "    </tr>\n",
       "    <tr>\n",
       "      <th>3</th>\n",
       "      <td>김판다</td>\n",
       "      <td>level</td>\n",
       "      <td>5</td>\n",
       "    </tr>\n",
       "  </tbody>\n",
       "</table>\n",
       "</div>"
      ],
      "text/plain": [
       "    이름      답안  글자수\n",
       "0  강승주     mom    3\n",
       "1  송중기     get    3\n",
       "2  권보아  pandas    6\n",
       "3  김판다   level    5"
      ]
     },
     "execution_count": 6,
     "metadata": {},
     "output_type": "execute_result"
    }
   ],
   "source": [
    "df['글자수'] = df['답안'].apply(len)\n",
    "df"
   ]
  },
  {
   "cell_type": "code",
   "execution_count": 7,
   "id": "b50c0b85-f1b2-492a-b1f3-49da781d6def",
   "metadata": {},
   "outputs": [
    {
     "data": {
      "text/plain": [
       "'teg'"
      ]
     },
     "execution_count": 7,
     "metadata": {},
     "output_type": "execute_result"
    }
   ],
   "source": [
    "# 문자열을 역순으로 뒤집는 사용자 정의 함수\n",
    "def rev1(x):\n",
    "    return x[::-1]\n",
    "rev1('get')"
   ]
  },
  {
   "cell_type": "code",
   "execution_count": 8,
   "id": "4e2bea69-a7cd-46a8-b541-9b3669dc76d3",
   "metadata": {},
   "outputs": [
    {
     "name": "stdout",
     "output_type": "stream",
     "text": [
      "teg\n"
     ]
    },
    {
     "data": {
      "text/plain": [
       "0       mom\n",
       "1       teg\n",
       "2    sadnap\n",
       "3     level\n",
       "Name: 답안, dtype: object"
      ]
     },
     "execution_count": 8,
     "metadata": {},
     "output_type": "execute_result"
    }
   ],
   "source": [
    "# lambda 함수 : 사전에 정의 없이 바로 집어넣을 수 잇다.\n",
    "rev2 = lambda x: x[::-1]\n",
    "print(rev2('get'))\n",
    "\n",
    "df['답안'].apply(lambda x: x[::-1])"
   ]
  },
  {
   "cell_type": "code",
   "execution_count": 9,
   "id": "153025f4-d3da-426d-9dfd-eac94d884cd5",
   "metadata": {},
   "outputs": [
    {
     "data": {
      "text/html": [
       "<div>\n",
       "<style scoped>\n",
       "    .dataframe tbody tr th:only-of-type {\n",
       "        vertical-align: middle;\n",
       "    }\n",
       "\n",
       "    .dataframe tbody tr th {\n",
       "        vertical-align: top;\n",
       "    }\n",
       "\n",
       "    .dataframe thead th {\n",
       "        text-align: right;\n",
       "    }\n",
       "</style>\n",
       "<table border=\"1\" class=\"dataframe\">\n",
       "  <thead>\n",
       "    <tr style=\"text-align: right;\">\n",
       "      <th></th>\n",
       "      <th>이름</th>\n",
       "      <th>답안</th>\n",
       "      <th>글자수</th>\n",
       "      <th>역순</th>\n",
       "    </tr>\n",
       "  </thead>\n",
       "  <tbody>\n",
       "    <tr>\n",
       "      <th>0</th>\n",
       "      <td>강승주</td>\n",
       "      <td>mom</td>\n",
       "      <td>3</td>\n",
       "      <td>mom</td>\n",
       "    </tr>\n",
       "    <tr>\n",
       "      <th>1</th>\n",
       "      <td>송중기</td>\n",
       "      <td>get</td>\n",
       "      <td>3</td>\n",
       "      <td>teg</td>\n",
       "    </tr>\n",
       "    <tr>\n",
       "      <th>2</th>\n",
       "      <td>권보아</td>\n",
       "      <td>pandas</td>\n",
       "      <td>6</td>\n",
       "      <td>sadnap</td>\n",
       "    </tr>\n",
       "    <tr>\n",
       "      <th>3</th>\n",
       "      <td>김판다</td>\n",
       "      <td>level</td>\n",
       "      <td>5</td>\n",
       "      <td>level</td>\n",
       "    </tr>\n",
       "  </tbody>\n",
       "</table>\n",
       "</div>"
      ],
      "text/plain": [
       "    이름      답안  글자수      역순\n",
       "0  강승주     mom    3     mom\n",
       "1  송중기     get    3     teg\n",
       "2  권보아  pandas    6  sadnap\n",
       "3  김판다   level    5   level"
      ]
     },
     "execution_count": 9,
     "metadata": {},
     "output_type": "execute_result"
    }
   ],
   "source": [
    "# apply로 사용자 정의함수 적용하기\n",
    "df['역순'] = df['답안'].apply(lambda x: x[::-1])\n",
    "df"
   ]
  },
  {
   "cell_type": "code",
   "execution_count": 10,
   "id": "288a397d-3069-4848-b7a1-e4b3348f7cc1",
   "metadata": {},
   "outputs": [],
   "source": [
    "# 다중요건 불리언 인덱싱\n",
    "data = [['강승주', 'mom'], ['송중기', 'get'], \n",
    "        ['권보아', 'pandas'], ['김판다', 'level']]\n",
    "df = pd.DataFrame(data, columns=['이름', '답안'])\n",
    "df['글자수'] = df['답안'].apply(len)\n",
    "df['역순'] = df['답안'].apply(lambda x: x[::-1])\n",
    "\n",
    "df1 = pd.DataFrame([[71, 82], [91, 85], [81, 92]], \n",
    "                   index=list('ABC'), columns=['국어', '영어'])"
   ]
  },
  {
   "cell_type": "code",
   "execution_count": 11,
   "id": "feaf40dd-3009-4328-b518-f3a53d4df7e3",
   "metadata": {},
   "outputs": [
    {
     "data": {
      "text/html": [
       "<div>\n",
       "<style scoped>\n",
       "    .dataframe tbody tr th:only-of-type {\n",
       "        vertical-align: middle;\n",
       "    }\n",
       "\n",
       "    .dataframe tbody tr th {\n",
       "        vertical-align: top;\n",
       "    }\n",
       "\n",
       "    .dataframe thead th {\n",
       "        text-align: right;\n",
       "    }\n",
       "</style>\n",
       "<table border=\"1\" class=\"dataframe\">\n",
       "  <thead>\n",
       "    <tr style=\"text-align: right;\">\n",
       "      <th></th>\n",
       "      <th>국어</th>\n",
       "      <th>영어</th>\n",
       "    </tr>\n",
       "  </thead>\n",
       "  <tbody>\n",
       "    <tr>\n",
       "      <th>A</th>\n",
       "      <td>71</td>\n",
       "      <td>82</td>\n",
       "    </tr>\n",
       "    <tr>\n",
       "      <th>B</th>\n",
       "      <td>91</td>\n",
       "      <td>85</td>\n",
       "    </tr>\n",
       "    <tr>\n",
       "      <th>C</th>\n",
       "      <td>81</td>\n",
       "      <td>92</td>\n",
       "    </tr>\n",
       "  </tbody>\n",
       "</table>\n",
       "</div>"
      ],
      "text/plain": [
       "   국어  영어\n",
       "A  71  82\n",
       "B  91  85\n",
       "C  81  92"
      ]
     },
     "execution_count": 11,
     "metadata": {},
     "output_type": "execute_result"
    }
   ],
   "source": [
    "df1"
   ]
  },
  {
   "cell_type": "code",
   "execution_count": 12,
   "id": "4333cb0b-9128-4b08-9fab-8f0959135f4d",
   "metadata": {},
   "outputs": [
    {
     "data": {
      "text/html": [
       "<div>\n",
       "<style scoped>\n",
       "    .dataframe tbody tr th:only-of-type {\n",
       "        vertical-align: middle;\n",
       "    }\n",
       "\n",
       "    .dataframe tbody tr th {\n",
       "        vertical-align: top;\n",
       "    }\n",
       "\n",
       "    .dataframe thead th {\n",
       "        text-align: right;\n",
       "    }\n",
       "</style>\n",
       "<table border=\"1\" class=\"dataframe\">\n",
       "  <thead>\n",
       "    <tr style=\"text-align: right;\">\n",
       "      <th></th>\n",
       "      <th>국어</th>\n",
       "      <th>영어</th>\n",
       "    </tr>\n",
       "  </thead>\n",
       "  <tbody>\n",
       "    <tr>\n",
       "      <th>B</th>\n",
       "      <td>91</td>\n",
       "      <td>85</td>\n",
       "    </tr>\n",
       "    <tr>\n",
       "      <th>C</th>\n",
       "      <td>81</td>\n",
       "      <td>92</td>\n",
       "    </tr>\n",
       "  </tbody>\n",
       "</table>\n",
       "</div>"
      ],
      "text/plain": [
       "   국어  영어\n",
       "B  91  85\n",
       "C  81  92"
      ]
     },
     "execution_count": 12,
     "metadata": {},
     "output_type": "execute_result"
    }
   ],
   "source": [
    "df1[df1['국어'] > 80]"
   ]
  },
  {
   "cell_type": "code",
   "execution_count": 13,
   "id": "e73917d7-4133-45ab-8191-15e63d17f744",
   "metadata": {},
   "outputs": [
    {
     "data": {
      "text/html": [
       "<div>\n",
       "<style scoped>\n",
       "    .dataframe tbody tr th:only-of-type {\n",
       "        vertical-align: middle;\n",
       "    }\n",
       "\n",
       "    .dataframe tbody tr th {\n",
       "        vertical-align: top;\n",
       "    }\n",
       "\n",
       "    .dataframe thead th {\n",
       "        text-align: right;\n",
       "    }\n",
       "</style>\n",
       "<table border=\"1\" class=\"dataframe\">\n",
       "  <thead>\n",
       "    <tr style=\"text-align: right;\">\n",
       "      <th></th>\n",
       "      <th>국어</th>\n",
       "      <th>영어</th>\n",
       "    </tr>\n",
       "  </thead>\n",
       "  <tbody>\n",
       "    <tr>\n",
       "      <th>B</th>\n",
       "      <td>91</td>\n",
       "      <td>85</td>\n",
       "    </tr>\n",
       "    <tr>\n",
       "      <th>C</th>\n",
       "      <td>81</td>\n",
       "      <td>92</td>\n",
       "    </tr>\n",
       "  </tbody>\n",
       "</table>\n",
       "</div>"
      ],
      "text/plain": [
       "   국어  영어\n",
       "B  91  85\n",
       "C  81  92"
      ]
     },
     "execution_count": 13,
     "metadata": {},
     "output_type": "execute_result"
    }
   ],
   "source": [
    "cond1 = df1['국어'] > 80\n",
    "df1[cond1]"
   ]
  },
  {
   "cell_type": "code",
   "execution_count": 14,
   "id": "b135fc90-beb8-46ab-89af-01d61f8fa3b3",
   "metadata": {},
   "outputs": [
    {
     "data": {
      "text/plain": [
       "A     True\n",
       "B    False\n",
       "C     True\n",
       "dtype: bool"
      ]
     },
     "execution_count": 14,
     "metadata": {},
     "output_type": "execute_result"
    }
   ],
   "source": [
    "df1['국어'] < df1['영어']"
   ]
  },
  {
   "cell_type": "code",
   "execution_count": 15,
   "id": "1706ab31-0a05-43bc-8084-18aebf6eeaf2",
   "metadata": {},
   "outputs": [
    {
     "data": {
      "text/html": [
       "<div>\n",
       "<style scoped>\n",
       "    .dataframe tbody tr th:only-of-type {\n",
       "        vertical-align: middle;\n",
       "    }\n",
       "\n",
       "    .dataframe tbody tr th {\n",
       "        vertical-align: top;\n",
       "    }\n",
       "\n",
       "    .dataframe thead th {\n",
       "        text-align: right;\n",
       "    }\n",
       "</style>\n",
       "<table border=\"1\" class=\"dataframe\">\n",
       "  <thead>\n",
       "    <tr style=\"text-align: right;\">\n",
       "      <th></th>\n",
       "      <th>국어</th>\n",
       "      <th>영어</th>\n",
       "    </tr>\n",
       "  </thead>\n",
       "  <tbody>\n",
       "    <tr>\n",
       "      <th>A</th>\n",
       "      <td>71</td>\n",
       "      <td>82</td>\n",
       "    </tr>\n",
       "    <tr>\n",
       "      <th>C</th>\n",
       "      <td>81</td>\n",
       "      <td>92</td>\n",
       "    </tr>\n",
       "  </tbody>\n",
       "</table>\n",
       "</div>"
      ],
      "text/plain": [
       "   국어  영어\n",
       "A  71  82\n",
       "C  81  92"
      ]
     },
     "execution_count": 15,
     "metadata": {},
     "output_type": "execute_result"
    }
   ],
   "source": [
    "cond2 = df1['국어'] < df1['영어']\n",
    "df1[cond2]"
   ]
  },
  {
   "cell_type": "code",
   "execution_count": 16,
   "id": "6ba8a2e5-e3b9-4787-a2d3-221667905ea7",
   "metadata": {},
   "outputs": [
    {
     "data": {
      "text/plain": [
       "A    False\n",
       "B    False\n",
       "C     True\n",
       "dtype: bool"
      ]
     },
     "execution_count": 16,
     "metadata": {},
     "output_type": "execute_result"
    }
   ],
   "source": [
    "# 국어 점수가 80점보다 높고 영어점수보다 낮은 사람을 찾는 조건\n",
    "cond1 & cond2"
   ]
  },
  {
   "cell_type": "code",
   "execution_count": 17,
   "id": "51f28797-96f0-4afb-a233-4255ece64970",
   "metadata": {},
   "outputs": [
    {
     "data": {
      "text/html": [
       "<div>\n",
       "<style scoped>\n",
       "    .dataframe tbody tr th:only-of-type {\n",
       "        vertical-align: middle;\n",
       "    }\n",
       "\n",
       "    .dataframe tbody tr th {\n",
       "        vertical-align: top;\n",
       "    }\n",
       "\n",
       "    .dataframe thead th {\n",
       "        text-align: right;\n",
       "    }\n",
       "</style>\n",
       "<table border=\"1\" class=\"dataframe\">\n",
       "  <thead>\n",
       "    <tr style=\"text-align: right;\">\n",
       "      <th></th>\n",
       "      <th>국어</th>\n",
       "      <th>영어</th>\n",
       "    </tr>\n",
       "  </thead>\n",
       "  <tbody>\n",
       "    <tr>\n",
       "      <th>C</th>\n",
       "      <td>81</td>\n",
       "      <td>92</td>\n",
       "    </tr>\n",
       "  </tbody>\n",
       "</table>\n",
       "</div>"
      ],
      "text/plain": [
       "   국어  영어\n",
       "C  81  92"
      ]
     },
     "execution_count": 17,
     "metadata": {},
     "output_type": "execute_result"
    }
   ],
   "source": [
    "df1[cond1 & cond2]"
   ]
  },
  {
   "cell_type": "code",
   "execution_count": 18,
   "id": "a1d6dbe1-079b-46b8-a6d9-af3fc1852ff2",
   "metadata": {},
   "outputs": [
    {
     "data": {
      "text/html": [
       "<div>\n",
       "<style scoped>\n",
       "    .dataframe tbody tr th:only-of-type {\n",
       "        vertical-align: middle;\n",
       "    }\n",
       "\n",
       "    .dataframe tbody tr th {\n",
       "        vertical-align: top;\n",
       "    }\n",
       "\n",
       "    .dataframe thead th {\n",
       "        text-align: right;\n",
       "    }\n",
       "</style>\n",
       "<table border=\"1\" class=\"dataframe\">\n",
       "  <thead>\n",
       "    <tr style=\"text-align: right;\">\n",
       "      <th></th>\n",
       "      <th>이름</th>\n",
       "      <th>답안</th>\n",
       "      <th>글자수</th>\n",
       "      <th>역순</th>\n",
       "    </tr>\n",
       "  </thead>\n",
       "  <tbody>\n",
       "    <tr>\n",
       "      <th>3</th>\n",
       "      <td>김판다</td>\n",
       "      <td>level</td>\n",
       "      <td>5</td>\n",
       "      <td>level</td>\n",
       "    </tr>\n",
       "  </tbody>\n",
       "</table>\n",
       "</div>"
      ],
      "text/plain": [
       "    이름     답안  글자수     역순\n",
       "3  김판다  level    5  level"
      ]
     },
     "execution_count": 18,
     "metadata": {},
     "output_type": "execute_result"
    }
   ],
   "source": [
    "# 데이터로 실습하기\n",
    "# 글자수가 5이상인 회문을 답변한 사람\n",
    "cond1 = df['글자수'] >= 5\n",
    "cond2 = df['답안'] == df['역순']\n",
    "df[cond1 & cond2]"
   ]
  },
  {
   "cell_type": "code",
   "execution_count": 19,
   "id": "d01d4845-69e1-4783-8d35-8d9da8dc9562",
   "metadata": {},
   "outputs": [
    {
     "data": {
      "text/html": [
       "<div>\n",
       "<style scoped>\n",
       "    .dataframe tbody tr th:only-of-type {\n",
       "        vertical-align: middle;\n",
       "    }\n",
       "\n",
       "    .dataframe tbody tr th {\n",
       "        vertical-align: top;\n",
       "    }\n",
       "\n",
       "    .dataframe thead th {\n",
       "        text-align: right;\n",
       "    }\n",
       "</style>\n",
       "<table border=\"1\" class=\"dataframe\">\n",
       "  <thead>\n",
       "    <tr style=\"text-align: right;\">\n",
       "      <th></th>\n",
       "      <th>이름</th>\n",
       "      <th>주소</th>\n",
       "      <th>답안</th>\n",
       "    </tr>\n",
       "  </thead>\n",
       "  <tbody>\n",
       "    <tr>\n",
       "      <th>0</th>\n",
       "      <td>류동영</td>\n",
       "      <td>경상북도 청도군 뒷마2길</td>\n",
       "      <td>메뉴</td>\n",
       "    </tr>\n",
       "    <tr>\n",
       "      <th>1</th>\n",
       "      <td>유지수</td>\n",
       "      <td>경상북도 문경시 청암3길</td>\n",
       "      <td>목욕탕</td>\n",
       "    </tr>\n",
       "    <tr>\n",
       "      <th>2</th>\n",
       "      <td>권민식</td>\n",
       "      <td>경기도 안양시 동안구 동편로49번길</td>\n",
       "      <td>야채</td>\n",
       "    </tr>\n",
       "    <tr>\n",
       "      <th>...</th>\n",
       "      <td>...</td>\n",
       "      <td>...</td>\n",
       "      <td>...</td>\n",
       "    </tr>\n",
       "    <tr>\n",
       "      <th>997</th>\n",
       "      <td>한성균</td>\n",
       "      <td>부산광역시 영도구 청학북로</td>\n",
       "      <td>스웨터</td>\n",
       "    </tr>\n",
       "    <tr>\n",
       "      <th>998</th>\n",
       "      <td>양대환</td>\n",
       "      <td>강원도 춘천시 하중도길</td>\n",
       "      <td>남북</td>\n",
       "    </tr>\n",
       "    <tr>\n",
       "      <th>999</th>\n",
       "      <td>이종봉</td>\n",
       "      <td>충청북도 단양군 여울목2길</td>\n",
       "      <td>해외여행</td>\n",
       "    </tr>\n",
       "  </tbody>\n",
       "</table>\n",
       "<p>1000 rows × 3 columns</p>\n",
       "</div>"
      ],
      "text/plain": [
       "      이름                   주소    답안\n",
       "0    류동영        경상북도 청도군 뒷마2길    메뉴\n",
       "1    유지수        경상북도 문경시 청암3길   목욕탕\n",
       "2    권민식  경기도 안양시 동안구 동편로49번길    야채\n",
       "..   ...                  ...   ...\n",
       "997  한성균       부산광역시 영도구 청학북로   스웨터\n",
       "998  양대환         강원도 춘천시 하중도길    남북\n",
       "999  이종봉       충청북도 단양군 여울목2길  해외여행\n",
       "\n",
       "[1000 rows x 3 columns]"
      ]
     },
     "execution_count": 19,
     "metadata": {},
     "output_type": "execute_result"
    }
   ],
   "source": [
    "# 프로젝트 \n",
    "# 해당 파일에서 3글자의 회문인 정답을 찾고, 정답자의 소속 시도(광역단체)를 파악하라\n",
    "import pandas as pd\n",
    "pd.options.display.max_rows = 6 # 판다스 버전업에 따라 6행 출력의 바뀐 코드\n",
    "url = 'https://raw.githubusercontent.com/panda-kim/csv_files/main/palindrome.csv'\n",
    "df_ex1 = pd.read_csv(url)\n",
    "df_ex1"
   ]
  },
  {
   "cell_type": "code",
   "execution_count": 20,
   "id": "25453670-16ca-428a-b5fa-4d1e122a61db",
   "metadata": {},
   "outputs": [
    {
     "data": {
      "text/plain": [
       "'경상북도'"
      ]
     },
     "execution_count": 20,
     "metadata": {},
     "output_type": "execute_result"
    }
   ],
   "source": [
    "# lambda 함수 쉽게 만드는 법\n",
    "x = '경상북도 청도군 뒷마2길'\n",
    "x.split(' ')[0] # 이 코드를 lambda x: 다음에 넣으면 됨"
   ]
  },
  {
   "cell_type": "code",
   "execution_count": 21,
   "id": "4d309444-8817-4e09-93a7-12eb7be04339",
   "metadata": {},
   "outputs": [
    {
     "data": {
      "text/html": [
       "<div>\n",
       "<style scoped>\n",
       "    .dataframe tbody tr th:only-of-type {\n",
       "        vertical-align: middle;\n",
       "    }\n",
       "\n",
       "    .dataframe tbody tr th {\n",
       "        vertical-align: top;\n",
       "    }\n",
       "\n",
       "    .dataframe thead th {\n",
       "        text-align: right;\n",
       "    }\n",
       "</style>\n",
       "<table border=\"1\" class=\"dataframe\">\n",
       "  <thead>\n",
       "    <tr style=\"text-align: right;\">\n",
       "      <th></th>\n",
       "      <th>이름</th>\n",
       "      <th>주소</th>\n",
       "      <th>답안</th>\n",
       "      <th>시도</th>\n",
       "    </tr>\n",
       "  </thead>\n",
       "  <tbody>\n",
       "    <tr>\n",
       "      <th>0</th>\n",
       "      <td>류동영</td>\n",
       "      <td>경상북도 청도군 뒷마2길</td>\n",
       "      <td>메뉴</td>\n",
       "      <td>경상북도</td>\n",
       "    </tr>\n",
       "    <tr>\n",
       "      <th>1</th>\n",
       "      <td>유지수</td>\n",
       "      <td>경상북도 문경시 청암3길</td>\n",
       "      <td>목욕탕</td>\n",
       "      <td>경상북도</td>\n",
       "    </tr>\n",
       "    <tr>\n",
       "      <th>2</th>\n",
       "      <td>권민식</td>\n",
       "      <td>경기도 안양시 동안구 동편로49번길</td>\n",
       "      <td>야채</td>\n",
       "      <td>경기도</td>\n",
       "    </tr>\n",
       "    <tr>\n",
       "      <th>...</th>\n",
       "      <td>...</td>\n",
       "      <td>...</td>\n",
       "      <td>...</td>\n",
       "      <td>...</td>\n",
       "    </tr>\n",
       "    <tr>\n",
       "      <th>997</th>\n",
       "      <td>한성균</td>\n",
       "      <td>부산광역시 영도구 청학북로</td>\n",
       "      <td>스웨터</td>\n",
       "      <td>부산광역시</td>\n",
       "    </tr>\n",
       "    <tr>\n",
       "      <th>998</th>\n",
       "      <td>양대환</td>\n",
       "      <td>강원도 춘천시 하중도길</td>\n",
       "      <td>남북</td>\n",
       "      <td>강원도</td>\n",
       "    </tr>\n",
       "    <tr>\n",
       "      <th>999</th>\n",
       "      <td>이종봉</td>\n",
       "      <td>충청북도 단양군 여울목2길</td>\n",
       "      <td>해외여행</td>\n",
       "      <td>충청북도</td>\n",
       "    </tr>\n",
       "  </tbody>\n",
       "</table>\n",
       "<p>1000 rows × 4 columns</p>\n",
       "</div>"
      ],
      "text/plain": [
       "      이름                   주소    답안     시도\n",
       "0    류동영        경상북도 청도군 뒷마2길    메뉴   경상북도\n",
       "1    유지수        경상북도 문경시 청암3길   목욕탕   경상북도\n",
       "2    권민식  경기도 안양시 동안구 동편로49번길    야채    경기도\n",
       "..   ...                  ...   ...    ...\n",
       "997  한성균       부산광역시 영도구 청학북로   스웨터  부산광역시\n",
       "998  양대환         강원도 춘천시 하중도길    남북    강원도\n",
       "999  이종봉       충청북도 단양군 여울목2길  해외여행   충청북도\n",
       "\n",
       "[1000 rows x 4 columns]"
      ]
     },
     "execution_count": 21,
     "metadata": {},
     "output_type": "execute_result"
    }
   ],
   "source": [
    "# 시도열 만들기\n",
    "df_ex1['시도'] = df_ex1['주소'].apply(lambda x: x.split(' ')[0])\n",
    "df_ex1"
   ]
  },
  {
   "cell_type": "code",
   "execution_count": 22,
   "id": "df1d3f85-8cae-4f26-bd07-cba5af0e097a",
   "metadata": {},
   "outputs": [
    {
     "data": {
      "text/plain": [
       "35     서울특별시\n",
       "41     인천광역시\n",
       "57     서울특별시\n",
       "617      경기도\n",
       "917      강원도\n",
       "Name: 시도, dtype: object"
      ]
     },
     "execution_count": 22,
     "metadata": {},
     "output_type": "execute_result"
    }
   ],
   "source": [
    "cond1 = df_ex1['답안'].apply(len) == 3\n",
    "cond2 = df_ex1['답안'].apply(lambda x: x[::-1]) == df_ex1['답안']\n",
    "\n",
    "df_ex1.loc[cond1 & cond2, '시도']"
   ]
  },
  {
   "cell_type": "code",
   "execution_count": 23,
   "id": "3b9abe6d-a6ff-4206-bad3-a24bd81ed7a8",
   "metadata": {},
   "outputs": [
    {
     "data": {
      "text/plain": [
       "시도\n",
       "서울특별시    2\n",
       "인천광역시    1\n",
       "경기도      1\n",
       "강원도      1\n",
       "Name: count, dtype: int64"
      ]
     },
     "execution_count": 23,
     "metadata": {},
     "output_type": "execute_result"
    }
   ],
   "source": [
    "df_ex1.loc[cond1 & cond2, '시도'].value_counts()"
   ]
  },
  {
   "cell_type": "code",
   "execution_count": 24,
   "id": "bdf81874-8688-4941-b33a-ef17d00b4106",
   "metadata": {},
   "outputs": [
    {
     "data": {
      "text/html": [
       "<div>\n",
       "<style scoped>\n",
       "    .dataframe tbody tr th:only-of-type {\n",
       "        vertical-align: middle;\n",
       "    }\n",
       "\n",
       "    .dataframe tbody tr th {\n",
       "        vertical-align: top;\n",
       "    }\n",
       "\n",
       "    .dataframe thead th {\n",
       "        text-align: right;\n",
       "    }\n",
       "</style>\n",
       "<table border=\"1\" class=\"dataframe\">\n",
       "  <thead>\n",
       "    <tr style=\"text-align: right;\">\n",
       "      <th></th>\n",
       "      <th>A</th>\n",
       "      <th>B</th>\n",
       "      <th>C</th>\n",
       "      <th>D</th>\n",
       "      <th>E</th>\n",
       "    </tr>\n",
       "  </thead>\n",
       "  <tbody>\n",
       "    <tr>\n",
       "      <th>0</th>\n",
       "      <td>mom</td>\n",
       "      <td>cat01</td>\n",
       "      <td>cat-01</td>\n",
       "      <td>cat</td>\n",
       "      <td>cat01</td>\n",
       "    </tr>\n",
       "    <tr>\n",
       "      <th>1</th>\n",
       "      <td>get</td>\n",
       "      <td>dog02</td>\n",
       "      <td>dog-01</td>\n",
       "      <td>dog</td>\n",
       "      <td>01cat</td>\n",
       "    </tr>\n",
       "    <tr>\n",
       "      <th>2</th>\n",
       "      <td>pandas</td>\n",
       "      <td>cow01</td>\n",
       "      <td>rabbit-01</td>\n",
       "      <td>cow</td>\n",
       "      <td>dog01</td>\n",
       "    </tr>\n",
       "    <tr>\n",
       "      <th>3</th>\n",
       "      <td>level</td>\n",
       "      <td>cow02</td>\n",
       "      <td>dog-02</td>\n",
       "      <td>cow</td>\n",
       "      <td>cow01</td>\n",
       "    </tr>\n",
       "  </tbody>\n",
       "</table>\n",
       "</div>"
      ],
      "text/plain": [
       "        A      B          C       D      E\n",
       "0     mom  cat01     cat-01     cat  cat01\n",
       "1     get  dog02     dog-01     dog  01cat\n",
       "2  pandas  cow01  rabbit-01     cow  dog01\n",
       "3   level  cow02     dog-02     cow  cow01"
      ]
     },
     "execution_count": 24,
     "metadata": {},
     "output_type": "execute_result"
    }
   ],
   "source": [
    "# 문자열 다루기\n",
    "data = [['mom', 'cat01', 'cat-01', '   cat', 'cat01'], \n",
    "        ['get', 'dog02', 'dog-01', '  dog', '01cat'], \n",
    "        ['pandas', 'cow01', 'rabbit-01', ' cow', 'dog01'], \n",
    "        ['level', 'cow02', 'dog-02',  'cow', 'cow01']]\n",
    "df = pd.DataFrame(data, columns=list('ABCDE'))\n",
    "df"
   ]
  },
  {
   "cell_type": "code",
   "execution_count": 25,
   "id": "05bc7798-c261-4e27-8eaa-9827211f6107",
   "metadata": {},
   "outputs": [
    {
     "data": {
      "text/plain": [
       "0    3\n",
       "1    3\n",
       "2    6\n",
       "3    5\n",
       "Name: A, dtype: int64"
      ]
     },
     "execution_count": 25,
     "metadata": {},
     "output_type": "execute_result"
    }
   ],
   "source": [
    "df['A'].apply(len)"
   ]
  },
  {
   "cell_type": "code",
   "execution_count": 26,
   "id": "702b7ad1-fc74-468d-a8c2-7e9757f85228",
   "metadata": {},
   "outputs": [
    {
     "data": {
      "text/plain": [
       "0    3\n",
       "1    3\n",
       "2    6\n",
       "3    5\n",
       "Name: A, dtype: int64"
      ]
     },
     "execution_count": 26,
     "metadata": {},
     "output_type": "execute_result"
    }
   ],
   "source": [
    "df['A'].str.len()"
   ]
  },
  {
   "cell_type": "code",
   "execution_count": 27,
   "id": "9e8b3e19-9fe7-443a-8c17-8e58554cbaa4",
   "metadata": {},
   "outputs": [
    {
     "data": {
      "text/plain": [
       "0    cat\n",
       "1    dog\n",
       "2    cow\n",
       "3    cow\n",
       "Name: B, dtype: object"
      ]
     },
     "execution_count": 27,
     "metadata": {},
     "output_type": "execute_result"
    }
   ],
   "source": [
    "df['B'].apply(lambda x: x[:3])"
   ]
  },
  {
   "cell_type": "code",
   "execution_count": 28,
   "id": "272e6562-f876-4a3e-a2bd-683f778049e8",
   "metadata": {},
   "outputs": [
    {
     "data": {
      "text/plain": [
       "0    cat\n",
       "1    dog\n",
       "2    cow\n",
       "3    cow\n",
       "Name: B, dtype: object"
      ]
     },
     "execution_count": 28,
     "metadata": {},
     "output_type": "execute_result"
    }
   ],
   "source": [
    "df['B'].str[:3]"
   ]
  },
  {
   "cell_type": "code",
   "execution_count": 29,
   "id": "64e4dd8d-4dc0-46c4-9043-2d63e4568b25",
   "metadata": {},
   "outputs": [
    {
     "data": {
      "text/plain": [
       "0       cat\n",
       "1       dog\n",
       "2    rabbit\n",
       "3       dog\n",
       "Name: C, dtype: object"
      ]
     },
     "execution_count": 29,
     "metadata": {},
     "output_type": "execute_result"
    }
   ],
   "source": [
    "df['C'].apply(lambda x: x.split('-')[0])"
   ]
  },
  {
   "cell_type": "code",
   "execution_count": 30,
   "id": "8355dc93-f872-4c4c-ab10-3fc015087622",
   "metadata": {},
   "outputs": [
    {
     "data": {
      "text/plain": [
       "0       cat\n",
       "1       dog\n",
       "2    rabbit\n",
       "3       dog\n",
       "Name: C, dtype: object"
      ]
     },
     "execution_count": 30,
     "metadata": {},
     "output_type": "execute_result"
    }
   ],
   "source": [
    "df['C'].str.split('-').str[0]"
   ]
  },
  {
   "cell_type": "code",
   "execution_count": 31,
   "id": "2feac6a7-cfd2-40f3-a1b9-f5d18950cfcb",
   "metadata": {},
   "outputs": [
    {
     "data": {
      "text/plain": [
       "0     True\n",
       "1    False\n",
       "2    False\n",
       "3    False\n",
       "Name: D, dtype: bool"
      ]
     },
     "execution_count": 31,
     "metadata": {},
     "output_type": "execute_result"
    }
   ],
   "source": [
    "df['D'].apply(lambda x: 'cat' in x)"
   ]
  },
  {
   "cell_type": "code",
   "execution_count": 32,
   "id": "328dcdc9-1732-45df-9385-364c05005326",
   "metadata": {},
   "outputs": [
    {
     "data": {
      "text/plain": [
       "0     True\n",
       "1    False\n",
       "2    False\n",
       "3    False\n",
       "Name: D, dtype: bool"
      ]
     },
     "execution_count": 32,
     "metadata": {},
     "output_type": "execute_result"
    }
   ],
   "source": [
    "df['D'].str.contains('cat')"
   ]
  },
  {
   "cell_type": "code",
   "execution_count": 33,
   "id": "6bde5201-c98b-4924-b347-bffcb3d9a542",
   "metadata": {},
   "outputs": [
    {
     "data": {
      "text/plain": [
       "0     True\n",
       "1     True\n",
       "2    False\n",
       "3    False\n",
       "Name: D, dtype: bool"
      ]
     },
     "execution_count": 33,
     "metadata": {},
     "output_type": "execute_result"
    }
   ],
   "source": [
    "df['D'].str.contains(r'cat|dog')"
   ]
  },
  {
   "cell_type": "code",
   "execution_count": 34,
   "id": "212ac920-9bad-4aa1-a906-2d97cefdabfc",
   "metadata": {},
   "outputs": [
    {
     "data": {
      "text/plain": [
       "0     True\n",
       "1     True\n",
       "2    False\n",
       "3    False\n",
       "Name: E, dtype: bool"
      ]
     },
     "execution_count": 34,
     "metadata": {},
     "output_type": "execute_result"
    }
   ],
   "source": [
    "df['E'].str.contains('cat')"
   ]
  },
  {
   "cell_type": "code",
   "execution_count": 35,
   "id": "a80f817a-c070-4e8d-91b7-00c6f6269a87",
   "metadata": {},
   "outputs": [
    {
     "data": {
      "text/plain": [
       "0     True\n",
       "1    False\n",
       "2    False\n",
       "3    False\n",
       "Name: E, dtype: bool"
      ]
     },
     "execution_count": 35,
     "metadata": {},
     "output_type": "execute_result"
    }
   ],
   "source": [
    "# cat으로 시작\n",
    "df['E'].str.contains('^cat')"
   ]
  },
  {
   "cell_type": "code",
   "execution_count": 36,
   "id": "0939cfc5-7148-4468-8671-96c56284ed44",
   "metadata": {},
   "outputs": [
    {
     "data": {
      "text/plain": [
       "0    False\n",
       "1     True\n",
       "2    False\n",
       "3    False\n",
       "Name: E, dtype: bool"
      ]
     },
     "execution_count": 36,
     "metadata": {},
     "output_type": "execute_result"
    }
   ],
   "source": [
    "# cat으로 끝\n",
    "df['E'].str.contains('cat$')"
   ]
  },
  {
   "cell_type": "code",
   "execution_count": 37,
   "id": "d9843604-9eb8-48b1-b13f-f8892fd2496a",
   "metadata": {},
   "outputs": [
    {
     "data": {
      "text/html": [
       "<div>\n",
       "<style scoped>\n",
       "    .dataframe tbody tr th:only-of-type {\n",
       "        vertical-align: middle;\n",
       "    }\n",
       "\n",
       "    .dataframe tbody tr th {\n",
       "        vertical-align: top;\n",
       "    }\n",
       "\n",
       "    .dataframe thead th {\n",
       "        text-align: right;\n",
       "    }\n",
       "</style>\n",
       "<table border=\"1\" class=\"dataframe\">\n",
       "  <thead>\n",
       "    <tr style=\"text-align: right;\">\n",
       "      <th></th>\n",
       "      <th>0</th>\n",
       "    </tr>\n",
       "  </thead>\n",
       "  <tbody>\n",
       "    <tr>\n",
       "      <th>0</th>\n",
       "      <td>cat</td>\n",
       "    </tr>\n",
       "    <tr>\n",
       "      <th>1</th>\n",
       "      <td>cat</td>\n",
       "    </tr>\n",
       "    <tr>\n",
       "      <th>2</th>\n",
       "      <td>NaN</td>\n",
       "    </tr>\n",
       "    <tr>\n",
       "      <th>3</th>\n",
       "      <td>NaN</td>\n",
       "    </tr>\n",
       "  </tbody>\n",
       "</table>\n",
       "</div>"
      ],
      "text/plain": [
       "     0\n",
       "0  cat\n",
       "1  cat\n",
       "2  NaN\n",
       "3  NaN"
      ]
     },
     "execution_count": 37,
     "metadata": {},
     "output_type": "execute_result"
    }
   ],
   "source": [
    "df['E'].str.extract('(cat)')"
   ]
  },
  {
   "cell_type": "code",
   "execution_count": 38,
   "id": "9dfc62a2-feec-44bf-bd34-4de228f3d972",
   "metadata": {},
   "outputs": [
    {
     "data": {
      "text/html": [
       "<div>\n",
       "<style scoped>\n",
       "    .dataframe tbody tr th:only-of-type {\n",
       "        vertical-align: middle;\n",
       "    }\n",
       "\n",
       "    .dataframe tbody tr th {\n",
       "        vertical-align: top;\n",
       "    }\n",
       "\n",
       "    .dataframe thead th {\n",
       "        text-align: right;\n",
       "    }\n",
       "</style>\n",
       "<table border=\"1\" class=\"dataframe\">\n",
       "  <thead>\n",
       "    <tr style=\"text-align: right;\">\n",
       "      <th></th>\n",
       "      <th>0</th>\n",
       "    </tr>\n",
       "  </thead>\n",
       "  <tbody>\n",
       "    <tr>\n",
       "      <th>0</th>\n",
       "      <td>cat</td>\n",
       "    </tr>\n",
       "    <tr>\n",
       "      <th>1</th>\n",
       "      <td>cat</td>\n",
       "    </tr>\n",
       "    <tr>\n",
       "      <th>2</th>\n",
       "      <td>dog</td>\n",
       "    </tr>\n",
       "    <tr>\n",
       "      <th>3</th>\n",
       "      <td>NaN</td>\n",
       "    </tr>\n",
       "  </tbody>\n",
       "</table>\n",
       "</div>"
      ],
      "text/plain": [
       "     0\n",
       "0  cat\n",
       "1  cat\n",
       "2  dog\n",
       "3  NaN"
      ]
     },
     "execution_count": 38,
     "metadata": {},
     "output_type": "execute_result"
    }
   ],
   "source": [
    "df['E'].str.extract('(cat|dog)')"
   ]
  },
  {
   "cell_type": "code",
   "execution_count": 39,
   "id": "6605a514-451e-4f05-97c8-e60e7e772ffb",
   "metadata": {},
   "outputs": [
    {
     "data": {
      "text/plain": [
       "0    87\n",
       "1    70\n",
       "2    98\n",
       "3     -\n",
       "dtype: object"
      ]
     },
     "execution_count": 39,
     "metadata": {},
     "output_type": "execute_result"
    }
   ],
   "source": [
    "# to_numeric\n",
    "s1 = pd.Series(['87', '70', '98', '-'])\n",
    "s1"
   ]
  },
  {
   "cell_type": "code",
   "execution_count": 40,
   "id": "780e2bb0-1b46-41cf-9cf7-20c7c687c7ff",
   "metadata": {},
   "outputs": [
    {
     "data": {
      "text/plain": [
       "0    87.0\n",
       "1    70.0\n",
       "2    98.0\n",
       "3     NaN\n",
       "dtype: float64"
      ]
     },
     "execution_count": 40,
     "metadata": {},
     "output_type": "execute_result"
    }
   ],
   "source": [
    "# nan으로 반환\n",
    "pd.to_numeric(s1, errors='coerce')"
   ]
  },
  {
   "cell_type": "code",
   "execution_count": 41,
   "id": "c6bd7e17-ac40-4118-a333-b76a29b3dd9d",
   "metadata": {},
   "outputs": [
    {
     "name": "stderr",
     "output_type": "stream",
     "text": [
      "C:\\Users\\julia\\AppData\\Local\\Temp\\ipykernel_15284\\3146340982.py:2: FutureWarning: errors='ignore' is deprecated and will raise in a future version. Use to_numeric without passing `errors` and catch exceptions explicitly instead\n",
      "  pd.to_numeric(s1, errors='ignore') # 전부 그대로 반환인 것임. 곧 없어질 거라 try-except 사용 권장\n"
     ]
    },
    {
     "data": {
      "text/plain": [
       "0    87\n",
       "1    70\n",
       "2    98\n",
       "3     -\n",
       "dtype: object"
      ]
     },
     "execution_count": 41,
     "metadata": {},
     "output_type": "execute_result"
    }
   ],
   "source": [
    "# 그대로 반환\n",
    "pd.to_numeric(s1, errors='ignore') # 전부 그대로 반환인 것임. 곧 없어질 거라 try-except 사용 권장"
   ]
  },
  {
   "cell_type": "code",
   "execution_count": 42,
   "id": "5503b160-de03-48ce-9647-b40ae860e93c",
   "metadata": {},
   "outputs": [],
   "source": [
    "# 데이터 프레임에 apply 사용하기\n",
    "s1 = pd.Series(['87', '70', '98', '-'])\n",
    "data1 = [['87', '-', '70'], ['70', '72', '73'], \n",
    "         ['98', '76', '-'], ['-', '77', '95']]\n",
    "data2 = [[87, 99, 70], [70, 72, 73], [98, 76, 80], [93, 77, 95]]\n",
    "df1 = pd.DataFrame(data1, index=list('ABCD'), columns=['국어', '영어', '수학'])\n",
    "df2 = pd.DataFrame(data2, index=list('ABCD'), columns=['국어', '영어', '수학'])\n",
    "\n",
    "data3 = [['강승주', 'A', '할인'], ['송중기', 'B', '할인'], \n",
    "         ['권보아', 'C', '할인'], ['강보경', 'C', '할인'], \n",
    "         ['김판다', 'A', '정상가'], ['박효신', 'A', '정상가']]\n",
    "\n",
    "df3 = pd.DataFrame(data3, columns=['이름', '제품', '할인여부'])\n",
    "df4 = pd.DataFrame([[5000, 4000], [1200, 1000], [2000, 1500]], \n",
    "                   index=list('ABC'), columns=['정상가', '할인'])"
   ]
  },
  {
   "cell_type": "code",
   "execution_count": 43,
   "id": "2dee4dd7-5093-499a-b282-92afab49d3e6",
   "metadata": {},
   "outputs": [
    {
     "data": {
      "text/html": [
       "<div>\n",
       "<style scoped>\n",
       "    .dataframe tbody tr th:only-of-type {\n",
       "        vertical-align: middle;\n",
       "    }\n",
       "\n",
       "    .dataframe tbody tr th {\n",
       "        vertical-align: top;\n",
       "    }\n",
       "\n",
       "    .dataframe thead th {\n",
       "        text-align: right;\n",
       "    }\n",
       "</style>\n",
       "<table border=\"1\" class=\"dataframe\">\n",
       "  <thead>\n",
       "    <tr style=\"text-align: right;\">\n",
       "      <th></th>\n",
       "      <th>국어</th>\n",
       "      <th>영어</th>\n",
       "      <th>수학</th>\n",
       "    </tr>\n",
       "  </thead>\n",
       "  <tbody>\n",
       "    <tr>\n",
       "      <th>A</th>\n",
       "      <td>87.0</td>\n",
       "      <td>NaN</td>\n",
       "      <td>70.0</td>\n",
       "    </tr>\n",
       "    <tr>\n",
       "      <th>B</th>\n",
       "      <td>70.0</td>\n",
       "      <td>72.0</td>\n",
       "      <td>73.0</td>\n",
       "    </tr>\n",
       "    <tr>\n",
       "      <th>C</th>\n",
       "      <td>98.0</td>\n",
       "      <td>76.0</td>\n",
       "      <td>NaN</td>\n",
       "    </tr>\n",
       "    <tr>\n",
       "      <th>D</th>\n",
       "      <td>NaN</td>\n",
       "      <td>77.0</td>\n",
       "      <td>95.0</td>\n",
       "    </tr>\n",
       "  </tbody>\n",
       "</table>\n",
       "</div>"
      ],
      "text/plain": [
       "     국어    영어    수학\n",
       "A  87.0   NaN  70.0\n",
       "B  70.0  72.0  73.0\n",
       "C  98.0  76.0   NaN\n",
       "D   NaN  77.0  95.0"
      ]
     },
     "execution_count": 43,
     "metadata": {},
     "output_type": "execute_result"
    }
   ],
   "source": [
    "df1.apply(pd.to_numeric, errors='coerce')"
   ]
  },
  {
   "cell_type": "code",
   "execution_count": 44,
   "id": "7107a412-6c96-4e8b-b9c8-5af084369538",
   "metadata": {},
   "outputs": [
    {
     "name": "stdout",
     "output_type": "stream",
     "text": [
      "<class 'pandas.core.frame.DataFrame'>\n",
      "Index: 4 entries, A to D\n",
      "Data columns (total 3 columns):\n",
      " #   Column  Non-Null Count  Dtype  \n",
      "---  ------  --------------  -----  \n",
      " 0   국어      3 non-null      float64\n",
      " 1   영어      3 non-null      float64\n",
      " 2   수학      3 non-null      float64\n",
      "dtypes: float64(3)\n",
      "memory usage: 128.0+ bytes\n"
     ]
    }
   ],
   "source": [
    "df1.apply(pd.to_numeric, errors='coerce').info()"
   ]
  },
  {
   "cell_type": "code",
   "execution_count": 45,
   "id": "f4e76aee-8143-4eeb-9cda-fd5dce0e9f75",
   "metadata": {},
   "outputs": [
    {
     "data": {
      "text/plain": [
       "A    256\n",
       "B    215\n",
       "C    254\n",
       "D    265\n",
       "dtype: int64"
      ]
     },
     "execution_count": 45,
     "metadata": {},
     "output_type": "execute_result"
    }
   ],
   "source": [
    "# apply에서 axis 사용\n",
    "df2.apply(sum, axis=1)"
   ]
  },
  {
   "cell_type": "code",
   "execution_count": 46,
   "id": "78b76461-44f4-4da3-aee1-d09e084d8370",
   "metadata": {},
   "outputs": [
    {
     "data": {
      "text/html": [
       "<div>\n",
       "<style scoped>\n",
       "    .dataframe tbody tr th:only-of-type {\n",
       "        vertical-align: middle;\n",
       "    }\n",
       "\n",
       "    .dataframe tbody tr th {\n",
       "        vertical-align: top;\n",
       "    }\n",
       "\n",
       "    .dataframe thead th {\n",
       "        text-align: right;\n",
       "    }\n",
       "</style>\n",
       "<table border=\"1\" class=\"dataframe\">\n",
       "  <thead>\n",
       "    <tr style=\"text-align: right;\">\n",
       "      <th></th>\n",
       "      <th>국어</th>\n",
       "      <th>영어</th>\n",
       "    </tr>\n",
       "  </thead>\n",
       "  <tbody>\n",
       "    <tr>\n",
       "      <th>A</th>\n",
       "      <td>87</td>\n",
       "      <td>99</td>\n",
       "    </tr>\n",
       "    <tr>\n",
       "      <th>B</th>\n",
       "      <td>70</td>\n",
       "      <td>72</td>\n",
       "    </tr>\n",
       "    <tr>\n",
       "      <th>C</th>\n",
       "      <td>98</td>\n",
       "      <td>76</td>\n",
       "    </tr>\n",
       "    <tr>\n",
       "      <th>D</th>\n",
       "      <td>93</td>\n",
       "      <td>77</td>\n",
       "    </tr>\n",
       "  </tbody>\n",
       "</table>\n",
       "</div>"
      ],
      "text/plain": [
       "   국어  영어\n",
       "A  87  99\n",
       "B  70  72\n",
       "C  98  76\n",
       "D  93  77"
      ]
     },
     "execution_count": 46,
     "metadata": {},
     "output_type": "execute_result"
    }
   ],
   "source": [
    "df2.apply(lambda x: x[:2], axis=1)"
   ]
  },
  {
   "cell_type": "code",
   "execution_count": 47,
   "id": "4c2dabc0-5dbc-4027-ab29-3efa8d680336",
   "metadata": {},
   "outputs": [
    {
     "data": {
      "text/plain": [
       "np.int64(4000)"
      ]
     },
     "execution_count": 47,
     "metadata": {},
     "output_type": "execute_result"
    }
   ],
   "source": [
    "x = df3.iloc[0] # 첫 행을 x로 지정\n",
    "df4.loc[x['제품'], x['할인여부']]"
   ]
  },
  {
   "cell_type": "code",
   "execution_count": 48,
   "id": "8d490491-a527-4997-96ec-00e59fb48e66",
   "metadata": {},
   "outputs": [
    {
     "data": {
      "text/html": [
       "<div>\n",
       "<style scoped>\n",
       "    .dataframe tbody tr th:only-of-type {\n",
       "        vertical-align: middle;\n",
       "    }\n",
       "\n",
       "    .dataframe tbody tr th {\n",
       "        vertical-align: top;\n",
       "    }\n",
       "\n",
       "    .dataframe thead th {\n",
       "        text-align: right;\n",
       "    }\n",
       "</style>\n",
       "<table border=\"1\" class=\"dataframe\">\n",
       "  <thead>\n",
       "    <tr style=\"text-align: right;\">\n",
       "      <th></th>\n",
       "      <th>이름</th>\n",
       "      <th>제품</th>\n",
       "      <th>할인여부</th>\n",
       "      <th>가격</th>\n",
       "    </tr>\n",
       "  </thead>\n",
       "  <tbody>\n",
       "    <tr>\n",
       "      <th>0</th>\n",
       "      <td>강승주</td>\n",
       "      <td>A</td>\n",
       "      <td>할인</td>\n",
       "      <td>4000</td>\n",
       "    </tr>\n",
       "    <tr>\n",
       "      <th>1</th>\n",
       "      <td>송중기</td>\n",
       "      <td>B</td>\n",
       "      <td>할인</td>\n",
       "      <td>1000</td>\n",
       "    </tr>\n",
       "    <tr>\n",
       "      <th>2</th>\n",
       "      <td>권보아</td>\n",
       "      <td>C</td>\n",
       "      <td>할인</td>\n",
       "      <td>1500</td>\n",
       "    </tr>\n",
       "    <tr>\n",
       "      <th>3</th>\n",
       "      <td>강보경</td>\n",
       "      <td>C</td>\n",
       "      <td>할인</td>\n",
       "      <td>1500</td>\n",
       "    </tr>\n",
       "    <tr>\n",
       "      <th>4</th>\n",
       "      <td>김판다</td>\n",
       "      <td>A</td>\n",
       "      <td>정상가</td>\n",
       "      <td>5000</td>\n",
       "    </tr>\n",
       "    <tr>\n",
       "      <th>5</th>\n",
       "      <td>박효신</td>\n",
       "      <td>A</td>\n",
       "      <td>정상가</td>\n",
       "      <td>5000</td>\n",
       "    </tr>\n",
       "  </tbody>\n",
       "</table>\n",
       "</div>"
      ],
      "text/plain": [
       "    이름 제품 할인여부    가격\n",
       "0  강승주  A   할인  4000\n",
       "1  송중기  B   할인  1000\n",
       "2  권보아  C   할인  1500\n",
       "3  강보경  C   할인  1500\n",
       "4  김판다  A  정상가  5000\n",
       "5  박효신  A  정상가  5000"
      ]
     },
     "execution_count": 48,
     "metadata": {},
     "output_type": "execute_result"
    }
   ],
   "source": [
    "df3['가격'] = df3.apply(lambda x: df4.loc[x['제품'], x['할인여부']], axis=1)\n",
    "df3"
   ]
  },
  {
   "cell_type": "code",
   "execution_count": null,
   "id": "af216b9a-e0af-462b-8170-3af4fbf83add",
   "metadata": {},
   "outputs": [],
   "source": []
  }
 ],
 "metadata": {
  "kernelspec": {
   "display_name": "data_projects",
   "language": "python",
   "name": "data_projects"
  },
  "language_info": {
   "codemirror_mode": {
    "name": "ipython",
    "version": 3
   },
   "file_extension": ".py",
   "mimetype": "text/x-python",
   "name": "python",
   "nbconvert_exporter": "python",
   "pygments_lexer": "ipython3",
   "version": "3.11.9"
  }
 },
 "nbformat": 4,
 "nbformat_minor": 5
}
