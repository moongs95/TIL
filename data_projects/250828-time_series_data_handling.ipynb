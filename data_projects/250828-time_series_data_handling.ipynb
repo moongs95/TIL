{
 "cells": [
  {
   "cell_type": "code",
   "execution_count": 1,
   "id": "bc93150a-d59f-48cf-8461-29aff8cae179",
   "metadata": {},
   "outputs": [],
   "source": [
    "import pandas as pd\n",
    "import numpy as np"
   ]
  },
  {
   "cell_type": "code",
   "execution_count": 2,
   "id": "d0d91a01-6f18-4830-88b5-d09b5887ba24",
   "metadata": {},
   "outputs": [
    {
     "data": {
      "text/html": [
       "<div>\n",
       "<style scoped>\n",
       "    .dataframe tbody tr th:only-of-type {\n",
       "        vertical-align: middle;\n",
       "    }\n",
       "\n",
       "    .dataframe tbody tr th {\n",
       "        vertical-align: top;\n",
       "    }\n",
       "\n",
       "    .dataframe thead th {\n",
       "        text-align: right;\n",
       "    }\n",
       "</style>\n",
       "<table border=\"1\" class=\"dataframe\">\n",
       "  <thead>\n",
       "    <tr style=\"text-align: right;\">\n",
       "      <th></th>\n",
       "      <th>날짜</th>\n",
       "      <th>판매량</th>\n",
       "    </tr>\n",
       "  </thead>\n",
       "  <tbody>\n",
       "    <tr>\n",
       "      <th>0</th>\n",
       "      <td>2023-01-01</td>\n",
       "      <td>10</td>\n",
       "    </tr>\n",
       "    <tr>\n",
       "      <th>1</th>\n",
       "      <td>2023-01-02</td>\n",
       "      <td>50</td>\n",
       "    </tr>\n",
       "    <tr>\n",
       "      <th>2</th>\n",
       "      <td>2023-02-02</td>\n",
       "      <td>20</td>\n",
       "    </tr>\n",
       "    <tr>\n",
       "      <th>3</th>\n",
       "      <td>2023-Feb-03</td>\n",
       "      <td>30</td>\n",
       "    </tr>\n",
       "    <tr>\n",
       "      <th>4</th>\n",
       "      <td>2023-Feb-04</td>\n",
       "      <td>30</td>\n",
       "    </tr>\n",
       "    <tr>\n",
       "      <th>5</th>\n",
       "      <td>2023/Mar/01</td>\n",
       "      <td>30</td>\n",
       "    </tr>\n",
       "  </tbody>\n",
       "</table>\n",
       "</div>"
      ],
      "text/plain": [
       "            날짜  판매량\n",
       "0   2023-01-01   10\n",
       "1   2023-01-02   50\n",
       "2   2023-02-02   20\n",
       "3  2023-Feb-03   30\n",
       "4  2023-Feb-04   30\n",
       "5  2023/Mar/01   30"
      ]
     },
     "execution_count": 2,
     "metadata": {},
     "output_type": "execute_result"
    }
   ],
   "source": [
    "# to_datetime\n",
    "data = [['2023-01-01', 10], ['2023-01-02', 50], ['2023-02-02', 20], \n",
    "        ['2023-Feb-03', 30], ['2023-Feb-04', 30], ['2023/Mar/01', 30]]\n",
    "df = pd.DataFrame(data, columns=['날짜', '판매량'])\n",
    "df"
   ]
  },
  {
   "cell_type": "code",
   "execution_count": 3,
   "id": "078ff8e9-e36e-4421-a25f-94a75896c198",
   "metadata": {},
   "outputs": [
    {
     "name": "stdout",
     "output_type": "stream",
     "text": [
      "<class 'pandas.core.frame.DataFrame'>\n",
      "RangeIndex: 6 entries, 0 to 5\n",
      "Data columns (total 2 columns):\n",
      " #   Column  Non-Null Count  Dtype \n",
      "---  ------  --------------  ----- \n",
      " 0   날짜      6 non-null      object\n",
      " 1   판매량     6 non-null      int64 \n",
      "dtypes: int64(1), object(1)\n",
      "memory usage: 228.0+ bytes\n"
     ]
    }
   ],
   "source": [
    "df.info()"
   ]
  },
  {
   "cell_type": "code",
   "execution_count": 4,
   "id": "4b066de6-a42a-4be0-88c1-6ba60c3dde86",
   "metadata": {},
   "outputs": [
    {
     "data": {
      "text/plain": [
       "0   2023-01-01\n",
       "1   2023-01-02\n",
       "2   2023-02-02\n",
       "3   2023-02-03\n",
       "4   2023-02-04\n",
       "5   2023-03-01\n",
       "Name: 날짜, dtype: datetime64[ns]"
      ]
     },
     "execution_count": 4,
     "metadata": {},
     "output_type": "execute_result"
    }
   ],
   "source": [
    "pd.to_datetime(df['날짜'], format=\"mixed\") # 열에만 적용 가능, but 세부 조정이 가능"
   ]
  },
  {
   "cell_type": "code",
   "execution_count": 5,
   "id": "7f141114-633e-440c-afbb-64b57f66d346",
   "metadata": {},
   "outputs": [
    {
     "data": {
      "text/plain": [
       "0   2023-01-01\n",
       "1   2023-01-02\n",
       "2   2023-02-02\n",
       "3   2023-02-03\n",
       "4   2023-02-04\n",
       "5   2023-03-01\n",
       "Name: 날짜, dtype: datetime64[ns]"
      ]
     },
     "execution_count": 5,
     "metadata": {},
     "output_type": "execute_result"
    }
   ],
   "source": [
    "df['날짜'].astype('datetime64[ns]') # 데이터 프레임 전체에 적용 가능, but 날짜열은 한 두개 정도?"
   ]
  },
  {
   "cell_type": "code",
   "execution_count": 6,
   "id": "36fe1128-decc-4dd9-bd90-e80d0f7204ce",
   "metadata": {},
   "outputs": [
    {
     "data": {
      "text/plain": [
       "0   2025-01-03\n",
       "1          NaT\n",
       "dtype: datetime64[ns]"
      ]
     },
     "execution_count": 6,
     "metadata": {},
     "output_type": "execute_result"
    }
   ],
   "source": [
    "# to_datetime 함수의 장점 (바꿀 수 없는 데이터는 NaT로 바꾼다)\n",
    "s = pd.Series(['2025-01-03', '김판다'])\n",
    "pd.to_datetime(s, errors='coerce') # to_numeric과 비슷"
   ]
  },
  {
   "cell_type": "code",
   "execution_count": 7,
   "id": "3ec7ef70-7a7c-4bd2-94e0-2632171a1816",
   "metadata": {},
   "outputs": [
    {
     "name": "stdout",
     "output_type": "stream",
     "text": [
      "<class 'pandas.core.frame.DataFrame'>\n",
      "RangeIndex: 6 entries, 0 to 5\n",
      "Data columns (total 2 columns):\n",
      " #   Column  Non-Null Count  Dtype         \n",
      "---  ------  --------------  -----         \n",
      " 0   날짜      6 non-null      datetime64[ns]\n",
      " 1   판매량     6 non-null      int64         \n",
      "dtypes: datetime64[ns](1), int64(1)\n",
      "memory usage: 228.0 bytes\n"
     ]
    }
   ],
   "source": [
    "df1 = df.copy()\n",
    "df1['날짜'] = pd.to_datetime(df1['날짜'], format=\"mixed\")\n",
    "df1.info()"
   ]
  },
  {
   "cell_type": "code",
   "execution_count": 8,
   "id": "6dbfa7cd-2698-470a-a82f-8ae30f09019a",
   "metadata": {},
   "outputs": [
    {
     "data": {
      "text/html": [
       "<div>\n",
       "<style scoped>\n",
       "    .dataframe tbody tr th:only-of-type {\n",
       "        vertical-align: middle;\n",
       "    }\n",
       "\n",
       "    .dataframe tbody tr th {\n",
       "        vertical-align: top;\n",
       "    }\n",
       "\n",
       "    .dataframe thead th {\n",
       "        text-align: right;\n",
       "    }\n",
       "</style>\n",
       "<table border=\"1\" class=\"dataframe\">\n",
       "  <thead>\n",
       "    <tr style=\"text-align: right;\">\n",
       "      <th></th>\n",
       "      <th>판매량</th>\n",
       "    </tr>\n",
       "    <tr>\n",
       "      <th>날짜</th>\n",
       "      <th></th>\n",
       "    </tr>\n",
       "  </thead>\n",
       "  <tbody>\n",
       "    <tr>\n",
       "      <th>2023-01-01</th>\n",
       "      <td>10</td>\n",
       "    </tr>\n",
       "    <tr>\n",
       "      <th>2023-01-02</th>\n",
       "      <td>50</td>\n",
       "    </tr>\n",
       "    <tr>\n",
       "      <th>2023-02-02</th>\n",
       "      <td>20</td>\n",
       "    </tr>\n",
       "    <tr>\n",
       "      <th>2023-02-03</th>\n",
       "      <td>30</td>\n",
       "    </tr>\n",
       "    <tr>\n",
       "      <th>2023-02-04</th>\n",
       "      <td>30</td>\n",
       "    </tr>\n",
       "    <tr>\n",
       "      <th>2023-03-01</th>\n",
       "      <td>30</td>\n",
       "    </tr>\n",
       "  </tbody>\n",
       "</table>\n",
       "</div>"
      ],
      "text/plain": [
       "            판매량\n",
       "날짜             \n",
       "2023-01-01   10\n",
       "2023-01-02   50\n",
       "2023-02-02   20\n",
       "2023-02-03   30\n",
       "2023-02-04   30\n",
       "2023-03-01   30"
      ]
     },
     "execution_count": 8,
     "metadata": {},
     "output_type": "execute_result"
    }
   ],
   "source": [
    "# 날짜 데이터를 index로 바꾸면 여러 장점이 있음\n",
    "df1 = df1.set_index('날짜')\n",
    "df1"
   ]
  },
  {
   "cell_type": "code",
   "execution_count": 9,
   "id": "36e848a1-0b62-4a55-a228-2fb38a96bb08",
   "metadata": {},
   "outputs": [
    {
     "name": "stdout",
     "output_type": "stream",
     "text": [
      "<class 'pandas.core.frame.DataFrame'>\n",
      "DatetimeIndex: 6 entries, 2023-01-01 to 2023-03-01\n",
      "Data columns (total 1 columns):\n",
      " #   Column  Non-Null Count  Dtype\n",
      "---  ------  --------------  -----\n",
      " 0   판매량     6 non-null      int64\n",
      "dtypes: int64(1)\n",
      "memory usage: 96.0 bytes\n"
     ]
    }
   ],
   "source": [
    "df1.info()"
   ]
  },
  {
   "cell_type": "code",
   "execution_count": 10,
   "id": "dea77629-cd0a-404b-93d9-587760551af7",
   "metadata": {},
   "outputs": [
    {
     "data": {
      "text/html": [
       "<div>\n",
       "<style scoped>\n",
       "    .dataframe tbody tr th:only-of-type {\n",
       "        vertical-align: middle;\n",
       "    }\n",
       "\n",
       "    .dataframe tbody tr th {\n",
       "        vertical-align: top;\n",
       "    }\n",
       "\n",
       "    .dataframe thead th {\n",
       "        text-align: right;\n",
       "    }\n",
       "</style>\n",
       "<table border=\"1\" class=\"dataframe\">\n",
       "  <thead>\n",
       "    <tr style=\"text-align: right;\">\n",
       "      <th></th>\n",
       "      <th>판매량</th>\n",
       "    </tr>\n",
       "    <tr>\n",
       "      <th>날짜</th>\n",
       "      <th></th>\n",
       "    </tr>\n",
       "  </thead>\n",
       "  <tbody>\n",
       "    <tr>\n",
       "      <th>2023-02-02</th>\n",
       "      <td>20</td>\n",
       "    </tr>\n",
       "    <tr>\n",
       "      <th>2023-02-03</th>\n",
       "      <td>30</td>\n",
       "    </tr>\n",
       "    <tr>\n",
       "      <th>2023-02-04</th>\n",
       "      <td>30</td>\n",
       "    </tr>\n",
       "  </tbody>\n",
       "</table>\n",
       "</div>"
      ],
      "text/plain": [
       "            판매량\n",
       "날짜             \n",
       "2023-02-02   20\n",
       "2023-02-03   30\n",
       "2023-02-04   30"
      ]
     },
     "execution_count": 10,
     "metadata": {},
     "output_type": "execute_result"
    }
   ],
   "source": [
    "# 인덱싱과 슬라이싱\n",
    "df1.loc['2023-02']"
   ]
  },
  {
   "cell_type": "code",
   "execution_count": 11,
   "id": "a294147c-3d77-4c8c-9ccf-56c90da45e42",
   "metadata": {},
   "outputs": [
    {
     "data": {
      "text/html": [
       "<div>\n",
       "<style scoped>\n",
       "    .dataframe tbody tr th:only-of-type {\n",
       "        vertical-align: middle;\n",
       "    }\n",
       "\n",
       "    .dataframe tbody tr th {\n",
       "        vertical-align: top;\n",
       "    }\n",
       "\n",
       "    .dataframe thead th {\n",
       "        text-align: right;\n",
       "    }\n",
       "</style>\n",
       "<table border=\"1\" class=\"dataframe\">\n",
       "  <thead>\n",
       "    <tr style=\"text-align: right;\">\n",
       "      <th></th>\n",
       "      <th>판매량</th>\n",
       "    </tr>\n",
       "    <tr>\n",
       "      <th>날짜</th>\n",
       "      <th></th>\n",
       "    </tr>\n",
       "  </thead>\n",
       "  <tbody>\n",
       "    <tr>\n",
       "      <th>2023-02-02</th>\n",
       "      <td>20</td>\n",
       "    </tr>\n",
       "    <tr>\n",
       "      <th>2023-02-03</th>\n",
       "      <td>30</td>\n",
       "    </tr>\n",
       "    <tr>\n",
       "      <th>2023-02-04</th>\n",
       "      <td>30</td>\n",
       "    </tr>\n",
       "    <tr>\n",
       "      <th>2023-03-01</th>\n",
       "      <td>30</td>\n",
       "    </tr>\n",
       "  </tbody>\n",
       "</table>\n",
       "</div>"
      ],
      "text/plain": [
       "            판매량\n",
       "날짜             \n",
       "2023-02-02   20\n",
       "2023-02-03   30\n",
       "2023-02-04   30\n",
       "2023-03-01   30"
      ]
     },
     "execution_count": 11,
     "metadata": {},
     "output_type": "execute_result"
    }
   ],
   "source": [
    "df1.loc['2023-02':]"
   ]
  },
  {
   "cell_type": "code",
   "execution_count": 12,
   "id": "93b8335f-ee9a-4266-ad94-4e0e264e4636",
   "metadata": {},
   "outputs": [
    {
     "data": {
      "text/html": [
       "<div>\n",
       "<style scoped>\n",
       "    .dataframe tbody tr th:only-of-type {\n",
       "        vertical-align: middle;\n",
       "    }\n",
       "\n",
       "    .dataframe tbody tr th {\n",
       "        vertical-align: top;\n",
       "    }\n",
       "\n",
       "    .dataframe thead th {\n",
       "        text-align: right;\n",
       "    }\n",
       "</style>\n",
       "<table border=\"1\" class=\"dataframe\">\n",
       "  <thead>\n",
       "    <tr style=\"text-align: right;\">\n",
       "      <th></th>\n",
       "      <th>유저코드</th>\n",
       "      <th>카테고리</th>\n",
       "      <th>제품코드</th>\n",
       "      <th>가격</th>\n",
       "      <th>행동</th>\n",
       "    </tr>\n",
       "    <tr>\n",
       "      <th>시간</th>\n",
       "      <th></th>\n",
       "      <th></th>\n",
       "      <th></th>\n",
       "      <th></th>\n",
       "      <th></th>\n",
       "    </tr>\n",
       "  </thead>\n",
       "  <tbody>\n",
       "    <tr>\n",
       "      <th>2022-06-01 00:00:01</th>\n",
       "      <td>u514028527</td>\n",
       "      <td>패션</td>\n",
       "      <td>p1307115</td>\n",
       "      <td>411.59</td>\n",
       "      <td>V</td>\n",
       "    </tr>\n",
       "    <tr>\n",
       "      <th>2022-06-01 00:00:13</th>\n",
       "      <td>u550193582</td>\n",
       "      <td>화장품</td>\n",
       "      <td>p12705151</td>\n",
       "      <td>51.22</td>\n",
       "      <td>V</td>\n",
       "    </tr>\n",
       "    <tr>\n",
       "      <th>2022-06-01 00:00:13</th>\n",
       "      <td>u551977964</td>\n",
       "      <td>식품</td>\n",
       "      <td>p4100249</td>\n",
       "      <td>583.80</td>\n",
       "      <td>V</td>\n",
       "    </tr>\n",
       "    <tr>\n",
       "      <th>2022-06-01 00:00:19</th>\n",
       "      <td>u542985695</td>\n",
       "      <td>식품</td>\n",
       "      <td>p12705928</td>\n",
       "      <td>139.58</td>\n",
       "      <td>V</td>\n",
       "    </tr>\n",
       "    <tr>\n",
       "      <th>2022-06-01 00:00:31</th>\n",
       "      <td>u561564372</td>\n",
       "      <td>화장품</td>\n",
       "      <td>p26403348</td>\n",
       "      <td>84.43</td>\n",
       "      <td>V</td>\n",
       "    </tr>\n",
       "    <tr>\n",
       "      <th>...</th>\n",
       "      <td>...</td>\n",
       "      <td>...</td>\n",
       "      <td>...</td>\n",
       "      <td>...</td>\n",
       "      <td>...</td>\n",
       "    </tr>\n",
       "    <tr>\n",
       "      <th>2022-06-07 23:59:35</th>\n",
       "      <td>u521492259</td>\n",
       "      <td>패션</td>\n",
       "      <td>p12702930</td>\n",
       "      <td>35.78</td>\n",
       "      <td>V</td>\n",
       "    </tr>\n",
       "    <tr>\n",
       "      <th>2022-06-07 23:59:41</th>\n",
       "      <td>u548223253</td>\n",
       "      <td>식품</td>\n",
       "      <td>p4000169</td>\n",
       "      <td>102.94</td>\n",
       "      <td>V</td>\n",
       "    </tr>\n",
       "    <tr>\n",
       "      <th>2022-06-07 23:59:47</th>\n",
       "      <td>u566067205</td>\n",
       "      <td>인테리어</td>\n",
       "      <td>p16300035</td>\n",
       "      <td>31.92</td>\n",
       "      <td>V</td>\n",
       "    </tr>\n",
       "    <tr>\n",
       "      <th>2022-06-07 23:59:56</th>\n",
       "      <td>u553835872</td>\n",
       "      <td>가전</td>\n",
       "      <td>p1005192</td>\n",
       "      <td>205.67</td>\n",
       "      <td>V</td>\n",
       "    </tr>\n",
       "    <tr>\n",
       "      <th>2022-06-07 23:59:59</th>\n",
       "      <td>u518620512</td>\n",
       "      <td>식품</td>\n",
       "      <td>p3600661</td>\n",
       "      <td>306.05</td>\n",
       "      <td>V</td>\n",
       "    </tr>\n",
       "  </tbody>\n",
       "</table>\n",
       "<p>81433 rows × 5 columns</p>\n",
       "</div>"
      ],
      "text/plain": [
       "                           유저코드  카테고리       제품코드      가격 행동\n",
       "시간                                                         \n",
       "2022-06-01 00:00:01  u514028527    패션   p1307115  411.59  V\n",
       "2022-06-01 00:00:13  u550193582   화장품  p12705151   51.22  V\n",
       "2022-06-01 00:00:13  u551977964    식품   p4100249  583.80  V\n",
       "2022-06-01 00:00:19  u542985695    식품  p12705928  139.58  V\n",
       "2022-06-01 00:00:31  u561564372   화장품  p26403348   84.43  V\n",
       "...                         ...   ...        ...     ... ..\n",
       "2022-06-07 23:59:35  u521492259    패션  p12702930   35.78  V\n",
       "2022-06-07 23:59:41  u548223253    식품   p4000169  102.94  V\n",
       "2022-06-07 23:59:47  u566067205  인테리어  p16300035   31.92  V\n",
       "2022-06-07 23:59:56  u553835872    가전   p1005192  205.67  V\n",
       "2022-06-07 23:59:59  u518620512    식품   p3600661  306.05  V\n",
       "\n",
       "[81433 rows x 5 columns]"
      ]
     },
     "execution_count": 12,
     "metadata": {},
     "output_type": "execute_result"
    }
   ],
   "source": [
    "# 파일 불러오기에서 datetime 지정하기\n",
    "url = 'https://raw.githubusercontent.com/panda-kim/csv_files/main/shop_data.csv'\n",
    "df_ex1 = pd.read_csv(url, parse_dates=['시간'], index_col=0)\n",
    "df_ex1 # 행동 열 : V(view), C(cart), B(buy)"
   ]
  },
  {
   "cell_type": "code",
   "execution_count": 13,
   "id": "6baca484-3e79-4035-9114-ec084e31e373",
   "metadata": {},
   "outputs": [
    {
     "data": {
      "text/html": [
       "<div>\n",
       "<style scoped>\n",
       "    .dataframe tbody tr th:only-of-type {\n",
       "        vertical-align: middle;\n",
       "    }\n",
       "\n",
       "    .dataframe tbody tr th {\n",
       "        vertical-align: top;\n",
       "    }\n",
       "\n",
       "    .dataframe thead th {\n",
       "        text-align: right;\n",
       "    }\n",
       "</style>\n",
       "<table border=\"1\" class=\"dataframe\">\n",
       "  <thead>\n",
       "    <tr style=\"text-align: right;\">\n",
       "      <th></th>\n",
       "      <th>유저코드</th>\n",
       "      <th>카테고리</th>\n",
       "      <th>제품코드</th>\n",
       "      <th>가격</th>\n",
       "      <th>행동</th>\n",
       "    </tr>\n",
       "    <tr>\n",
       "      <th>시간</th>\n",
       "      <th></th>\n",
       "      <th></th>\n",
       "      <th></th>\n",
       "      <th></th>\n",
       "      <th></th>\n",
       "    </tr>\n",
       "  </thead>\n",
       "  <tbody>\n",
       "    <tr>\n",
       "      <th>2022-06-01 23:00:01</th>\n",
       "      <td>u512686201</td>\n",
       "      <td>컴퓨터</td>\n",
       "      <td>p1005073</td>\n",
       "      <td>1133.09</td>\n",
       "      <td>V</td>\n",
       "    </tr>\n",
       "    <tr>\n",
       "      <th>2022-06-01 23:00:01</th>\n",
       "      <td>u546852746</td>\n",
       "      <td>식품</td>\n",
       "      <td>p15100148</td>\n",
       "      <td>378.36</td>\n",
       "      <td>V</td>\n",
       "    </tr>\n",
       "    <tr>\n",
       "      <th>2022-06-01 23:00:05</th>\n",
       "      <td>u545634079</td>\n",
       "      <td>화장품</td>\n",
       "      <td>p1005235</td>\n",
       "      <td>437.51</td>\n",
       "      <td>V</td>\n",
       "    </tr>\n",
       "    <tr>\n",
       "      <th>2022-06-01 23:00:17</th>\n",
       "      <td>u560348482</td>\n",
       "      <td>패션</td>\n",
       "      <td>p1004462</td>\n",
       "      <td>91.61</td>\n",
       "      <td>V</td>\n",
       "    </tr>\n",
       "    <tr>\n",
       "      <th>2022-06-01 23:00:30</th>\n",
       "      <td>u538139300</td>\n",
       "      <td>인테리어</td>\n",
       "      <td>p12711412</td>\n",
       "      <td>118.66</td>\n",
       "      <td>V</td>\n",
       "    </tr>\n",
       "    <tr>\n",
       "      <th>2022-06-01 23:00:31</th>\n",
       "      <td>u566030080</td>\n",
       "      <td>식품</td>\n",
       "      <td>p9400058</td>\n",
       "      <td>469.51</td>\n",
       "      <td>V</td>\n",
       "    </tr>\n",
       "    <tr>\n",
       "      <th>2022-06-01 23:00:36</th>\n",
       "      <td>u526605433</td>\n",
       "      <td>패션</td>\n",
       "      <td>p17200953</td>\n",
       "      <td>1029.22</td>\n",
       "      <td>V</td>\n",
       "    </tr>\n",
       "    <tr>\n",
       "      <th>2022-06-01 23:00:37</th>\n",
       "      <td>u564910799</td>\n",
       "      <td>가전</td>\n",
       "      <td>p17300713</td>\n",
       "      <td>107.52</td>\n",
       "      <td>V</td>\n",
       "    </tr>\n",
       "    <tr>\n",
       "      <th>2022-06-01 23:00:42</th>\n",
       "      <td>u542585097</td>\n",
       "      <td>식품</td>\n",
       "      <td>p3700278</td>\n",
       "      <td>69.47</td>\n",
       "      <td>V</td>\n",
       "    </tr>\n",
       "    <tr>\n",
       "      <th>2022-06-01 23:00:52</th>\n",
       "      <td>u538139300</td>\n",
       "      <td>식품</td>\n",
       "      <td>p12708848</td>\n",
       "      <td>128.70</td>\n",
       "      <td>V</td>\n",
       "    </tr>\n",
       "    <tr>\n",
       "      <th>2022-06-01 23:00:54</th>\n",
       "      <td>u513346578</td>\n",
       "      <td>식품</td>\n",
       "      <td>p14700312</td>\n",
       "      <td>317.61</td>\n",
       "      <td>V</td>\n",
       "    </tr>\n",
       "    <tr>\n",
       "      <th>2022-06-01 23:00:54</th>\n",
       "      <td>u561817477</td>\n",
       "      <td>식품</td>\n",
       "      <td>p10800025</td>\n",
       "      <td>54.00</td>\n",
       "      <td>V</td>\n",
       "    </tr>\n",
       "  </tbody>\n",
       "</table>\n",
       "</div>"
      ],
      "text/plain": [
       "                           유저코드  카테고리       제품코드       가격 행동\n",
       "시간                                                          \n",
       "2022-06-01 23:00:01  u512686201   컴퓨터   p1005073  1133.09  V\n",
       "2022-06-01 23:00:01  u546852746    식품  p15100148   378.36  V\n",
       "2022-06-01 23:00:05  u545634079   화장품   p1005235   437.51  V\n",
       "2022-06-01 23:00:17  u560348482    패션   p1004462    91.61  V\n",
       "2022-06-01 23:00:30  u538139300  인테리어  p12711412   118.66  V\n",
       "2022-06-01 23:00:31  u566030080    식품   p9400058   469.51  V\n",
       "2022-06-01 23:00:36  u526605433    패션  p17200953  1029.22  V\n",
       "2022-06-01 23:00:37  u564910799    가전  p17300713   107.52  V\n",
       "2022-06-01 23:00:42  u542585097    식품   p3700278    69.47  V\n",
       "2022-06-01 23:00:52  u538139300    식품  p12708848   128.70  V\n",
       "2022-06-01 23:00:54  u513346578    식품  p14700312   317.61  V\n",
       "2022-06-01 23:00:54  u561817477    식품  p10800025    54.00  V"
      ]
     },
     "execution_count": 13,
     "metadata": {},
     "output_type": "execute_result"
    }
   ],
   "source": [
    "# 인덱싱이 굉장히 간편하다\n",
    "df_ex1.loc['2022-06-01 23:00']"
   ]
  },
  {
   "cell_type": "code",
   "execution_count": 14,
   "id": "ff93beb5-efdb-4fa5-ada7-0bf5e2871431",
   "metadata": {},
   "outputs": [
    {
     "data": {
      "text/html": [
       "<div>\n",
       "<style scoped>\n",
       "    .dataframe tbody tr th:only-of-type {\n",
       "        vertical-align: middle;\n",
       "    }\n",
       "\n",
       "    .dataframe tbody tr th {\n",
       "        vertical-align: top;\n",
       "    }\n",
       "\n",
       "    .dataframe thead th {\n",
       "        text-align: right;\n",
       "    }\n",
       "</style>\n",
       "<table border=\"1\" class=\"dataframe\">\n",
       "  <thead>\n",
       "    <tr style=\"text-align: right;\">\n",
       "      <th></th>\n",
       "      <th>유저코드</th>\n",
       "      <th>카테고리</th>\n",
       "      <th>제품코드</th>\n",
       "      <th>가격</th>\n",
       "      <th>행동</th>\n",
       "    </tr>\n",
       "    <tr>\n",
       "      <th>시간</th>\n",
       "      <th></th>\n",
       "      <th></th>\n",
       "      <th></th>\n",
       "      <th></th>\n",
       "      <th></th>\n",
       "    </tr>\n",
       "  </thead>\n",
       "  <tbody>\n",
       "    <tr>\n",
       "      <th>2022-06-02 00:00:02</th>\n",
       "      <td>u566601875</td>\n",
       "      <td>인테리어</td>\n",
       "      <td>p54900002</td>\n",
       "      <td>46.33</td>\n",
       "      <td>V</td>\n",
       "    </tr>\n",
       "    <tr>\n",
       "      <th>2022-06-02 00:00:10</th>\n",
       "      <td>u513357826</td>\n",
       "      <td>식품</td>\n",
       "      <td>p1701432</td>\n",
       "      <td>483.90</td>\n",
       "      <td>V</td>\n",
       "    </tr>\n",
       "    <tr>\n",
       "      <th>2022-06-02 00:00:19</th>\n",
       "      <td>u518692140</td>\n",
       "      <td>자동차</td>\n",
       "      <td>p1306586</td>\n",
       "      <td>630.39</td>\n",
       "      <td>V</td>\n",
       "    </tr>\n",
       "    <tr>\n",
       "      <th>2022-06-02 00:00:20</th>\n",
       "      <td>u518117667</td>\n",
       "      <td>식품</td>\n",
       "      <td>p26400402</td>\n",
       "      <td>53.80</td>\n",
       "      <td>V</td>\n",
       "    </tr>\n",
       "    <tr>\n",
       "      <th>2022-06-02 00:00:22</th>\n",
       "      <td>u518117667</td>\n",
       "      <td>자동차</td>\n",
       "      <td>p26402558</td>\n",
       "      <td>792.55</td>\n",
       "      <td>V</td>\n",
       "    </tr>\n",
       "    <tr>\n",
       "      <th>...</th>\n",
       "      <td>...</td>\n",
       "      <td>...</td>\n",
       "      <td>...</td>\n",
       "      <td>...</td>\n",
       "      <td>...</td>\n",
       "    </tr>\n",
       "    <tr>\n",
       "      <th>2022-06-04 23:59:21</th>\n",
       "      <td>u517056379</td>\n",
       "      <td>자동차</td>\n",
       "      <td>p1307439</td>\n",
       "      <td>365.26</td>\n",
       "      <td>V</td>\n",
       "    </tr>\n",
       "    <tr>\n",
       "      <th>2022-06-04 23:59:25</th>\n",
       "      <td>u515414775</td>\n",
       "      <td>식품</td>\n",
       "      <td>p1003706</td>\n",
       "      <td>172.45</td>\n",
       "      <td>V</td>\n",
       "    </tr>\n",
       "    <tr>\n",
       "      <th>2022-06-04 23:59:31</th>\n",
       "      <td>u567495419</td>\n",
       "      <td>인테리어</td>\n",
       "      <td>p1005233</td>\n",
       "      <td>149.04</td>\n",
       "      <td>V</td>\n",
       "    </tr>\n",
       "    <tr>\n",
       "      <th>2022-06-04 23:59:35</th>\n",
       "      <td>u515005323</td>\n",
       "      <td>식품</td>\n",
       "      <td>p2501674</td>\n",
       "      <td>59.18</td>\n",
       "      <td>V</td>\n",
       "    </tr>\n",
       "    <tr>\n",
       "      <th>2022-06-04 23:59:44</th>\n",
       "      <td>u557663879</td>\n",
       "      <td>식품</td>\n",
       "      <td>p1005008</td>\n",
       "      <td>84.69</td>\n",
       "      <td>V</td>\n",
       "    </tr>\n",
       "  </tbody>\n",
       "</table>\n",
       "<p>32770 rows × 5 columns</p>\n",
       "</div>"
      ],
      "text/plain": [
       "                           유저코드  카테고리       제품코드      가격 행동\n",
       "시간                                                         \n",
       "2022-06-02 00:00:02  u566601875  인테리어  p54900002   46.33  V\n",
       "2022-06-02 00:00:10  u513357826    식품   p1701432  483.90  V\n",
       "2022-06-02 00:00:19  u518692140   자동차   p1306586  630.39  V\n",
       "2022-06-02 00:00:20  u518117667    식품  p26400402   53.80  V\n",
       "2022-06-02 00:00:22  u518117667   자동차  p26402558  792.55  V\n",
       "...                         ...   ...        ...     ... ..\n",
       "2022-06-04 23:59:21  u517056379   자동차   p1307439  365.26  V\n",
       "2022-06-04 23:59:25  u515414775    식품   p1003706  172.45  V\n",
       "2022-06-04 23:59:31  u567495419  인테리어   p1005233  149.04  V\n",
       "2022-06-04 23:59:35  u515005323    식품   p2501674   59.18  V\n",
       "2022-06-04 23:59:44  u557663879    식품   p1005008   84.69  V\n",
       "\n",
       "[32770 rows x 5 columns]"
      ]
     },
     "execution_count": 14,
     "metadata": {},
     "output_type": "execute_result"
    }
   ],
   "source": [
    "# 슬라이싱 또한\n",
    "df_ex1.loc['2022-06-02':'2022-06-04']"
   ]
  },
  {
   "cell_type": "code",
   "execution_count": 15,
   "id": "e3a0ede7-a11d-4bcb-8cc8-e2129cd08af6",
   "metadata": {},
   "outputs": [
    {
     "data": {
      "text/plain": [
       "DatetimeIndex(['2022-01-03', '2022-01-04', '2022-01-05', '2022-01-06',\n",
       "               '2022-01-07', '2022-01-08', '2022-01-09', '2022-01-10'],\n",
       "              dtype='datetime64[ns]', freq='D')"
      ]
     },
     "execution_count": 15,
     "metadata": {},
     "output_type": "execute_result"
    }
   ],
   "source": [
    "# date_range\n",
    "# 시작일과 끝일 사이의 모든 날짜\n",
    "pd.date_range('2022-01-03', '2022-01-10')"
   ]
  },
  {
   "cell_type": "code",
   "execution_count": 16,
   "id": "a2335afa-84be-4d8c-bf86-95adb75fd96e",
   "metadata": {},
   "outputs": [
    {
     "data": {
      "text/plain": [
       "DatetimeIndex(['2022-01-03', '2022-01-04', '2022-01-05'], dtype='datetime64[ns]', freq='D')"
      ]
     },
     "execution_count": 16,
     "metadata": {},
     "output_type": "execute_result"
    }
   ],
   "source": [
    "# 시작일부터 지정된 개수의 배열 (날짜)\n",
    "pd.date_range('2022-01-03', periods=3)"
   ]
  },
  {
   "cell_type": "code",
   "execution_count": 17,
   "id": "7a576262-366c-440c-9547-df77de7934f5",
   "metadata": {},
   "outputs": [
    {
     "data": {
      "text/plain": [
       "2022-01-03    0\n",
       "2022-01-04    1\n",
       "2022-01-05    2\n",
       "Freq: D, dtype: int64"
      ]
     },
     "execution_count": 17,
     "metadata": {},
     "output_type": "execute_result"
    }
   ],
   "source": [
    "# 결과가 index인 시리즈 만들기\n",
    "idx = pd.date_range('2022-01-03', periods=3)\n",
    "pd.Series([0, 1, 2], index=idx)"
   ]
  },
  {
   "cell_type": "code",
   "execution_count": 18,
   "id": "b074408e-ce4d-4652-8876-f5393d16cba6",
   "metadata": {},
   "outputs": [
    {
     "data": {
      "text/plain": [
       "0   2022-01-03\n",
       "1   2022-01-04\n",
       "2   2022-01-05\n",
       "dtype: datetime64[ns]"
      ]
     },
     "execution_count": 18,
     "metadata": {},
     "output_type": "execute_result"
    }
   ],
   "source": [
    "pd.Series(pd.date_range('2022-01-03', periods=3))"
   ]
  },
  {
   "cell_type": "code",
   "execution_count": 19,
   "id": "9e755e20-d5a6-4879-b7f1-b75cc5b1fc32",
   "metadata": {},
   "outputs": [
    {
     "data": {
      "text/plain": [
       "DatetimeIndex(['2022-01-31', '2022-02-28', '2022-03-31'], dtype='datetime64[ns]', freq='ME')"
      ]
     },
     "execution_count": 19,
     "metadata": {},
     "output_type": "execute_result"
    }
   ],
   "source": [
    "# 주기 바꾸기 (지정일 이후의 월의 마지막날)\n",
    "pd.date_range('2022-01-03', periods=3, freq='ME')"
   ]
  },
  {
   "cell_type": "code",
   "execution_count": 20,
   "id": "38d69820-55d6-4025-8291-e174673cb4e6",
   "metadata": {},
   "outputs": [
    {
     "data": {
      "text/plain": [
       "DatetimeIndex(['2022-02-01', '2022-03-01', '2022-04-01'], dtype='datetime64[ns]', freq='MS')"
      ]
     },
     "execution_count": 20,
     "metadata": {},
     "output_type": "execute_result"
    }
   ],
   "source": [
    "# 주기 바꾸기 (지정일 이후의 월의 첫날)\n",
    "pd.date_range('2022-01-03', periods=3, freq='MS')"
   ]
  },
  {
   "cell_type": "code",
   "execution_count": 21,
   "id": "3f8b4a37-1677-4201-b6aa-cd9e9f3a4bc0",
   "metadata": {},
   "outputs": [
    {
     "data": {
      "text/plain": [
       "DatetimeIndex(['2022-01-31', '2022-03-31', '2022-05-31'], dtype='datetime64[ns]', freq='2ME')"
      ]
     },
     "execution_count": 21,
     "metadata": {},
     "output_type": "execute_result"
    }
   ],
   "source": [
    "# 주기 바꾸기 (2개월 주기의 마지막날)\n",
    "pd.date_range('2022-01-03', periods=3, freq='2ME')"
   ]
  },
  {
   "cell_type": "code",
   "execution_count": 22,
   "id": "5286a863-45de-4697-9a09-9c558fa519a9",
   "metadata": {},
   "outputs": [
    {
     "data": {
      "text/plain": [
       "DatetimeIndex(['2022-12-31', '2023-12-31', '2024-12-31'], dtype='datetime64[ns]', freq='YE-DEC')"
      ]
     },
     "execution_count": 22,
     "metadata": {},
     "output_type": "execute_result"
    }
   ],
   "source": [
    "# 주기 바꾸기 (년도별 마지막날)\n",
    "pd.date_range('2022-01-03', periods=3, freq='YE-DEC')"
   ]
  },
  {
   "cell_type": "code",
   "execution_count": 23,
   "id": "69e6d285-3bb8-4b84-82e9-84926092b56a",
   "metadata": {},
   "outputs": [
    {
     "data": {
      "text/plain": [
       "DatetimeIndex(['2022-01-03 00:00:00', '2022-01-03 00:10:00',\n",
       "               '2022-01-03 00:20:00', '2022-01-03 00:30:00',\n",
       "               '2022-01-03 00:40:00', '2022-01-03 00:50:00',\n",
       "               '2022-01-03 01:00:00', '2022-01-03 01:10:00',\n",
       "               '2022-01-03 01:20:00', '2022-01-03 01:30:00'],\n",
       "              dtype='datetime64[ns]', freq='10min')"
      ]
     },
     "execution_count": 23,
     "metadata": {},
     "output_type": "execute_result"
    }
   ],
   "source": [
    "# 주기 바꾸기 (10분)\n",
    "pd.date_range('2022-01-03', periods=10, freq='10min')"
   ]
  },
  {
   "cell_type": "code",
   "execution_count": 24,
   "id": "aa4fcc27-44bd-44f6-87ed-c2a6176cfe24",
   "metadata": {},
   "outputs": [],
   "source": [
    "# dt 접근자\n",
    "idx = pd.date_range('2022-01-03', periods=6, freq='43D 9h 10min')\n",
    "df1 = pd.DataFrame(idx, columns=['date'])\n",
    "df2 = pd.DataFrame([20, 20, 30, 20, 40, 10], index=idx, columns=['sales'])"
   ]
  },
  {
   "cell_type": "code",
   "execution_count": 25,
   "id": "4de5fa55-feb6-431d-961c-a7b5b0a3eaed",
   "metadata": {},
   "outputs": [
    {
     "data": {
      "text/plain": [
       "0    2022\n",
       "1    2022\n",
       "2    2022\n",
       "3    2022\n",
       "4    2022\n",
       "5    2022\n",
       "Name: date, dtype: int32"
      ]
     },
     "execution_count": 25,
     "metadata": {},
     "output_type": "execute_result"
    }
   ],
   "source": [
    "df1['date'].dt.year"
   ]
  },
  {
   "cell_type": "code",
   "execution_count": 26,
   "id": "775e0fdc-a086-40e9-9af0-258e0229889a",
   "metadata": {},
   "outputs": [
    {
     "data": {
      "text/plain": [
       "0    1\n",
       "1    1\n",
       "2    1\n",
       "3    2\n",
       "4    2\n",
       "5    3\n",
       "Name: date, dtype: int32"
      ]
     },
     "execution_count": 26,
     "metadata": {},
     "output_type": "execute_result"
    }
   ],
   "source": [
    "df1['date'].dt.quarter"
   ]
  },
  {
   "cell_type": "code",
   "execution_count": 27,
   "id": "19590fef-1b56-469d-89d5-8f2cc3646853",
   "metadata": {},
   "outputs": [
    {
     "data": {
      "text/plain": [
       "0    1\n",
       "1    2\n",
       "2    3\n",
       "3    5\n",
       "4    6\n",
       "5    8\n",
       "Name: date, dtype: int32"
      ]
     },
     "execution_count": 27,
     "metadata": {},
     "output_type": "execute_result"
    }
   ],
   "source": [
    "df1['date'].dt.month"
   ]
  },
  {
   "cell_type": "code",
   "execution_count": 28,
   "id": "785ac1cc-40b1-437a-bfa9-edfea50914e2",
   "metadata": {},
   "outputs": [
    {
     "data": {
      "text/plain": [
       "0    2022-01-03\n",
       "1    2022-02-15\n",
       "2    2022-03-30\n",
       "3    2022-05-13\n",
       "4    2022-06-25\n",
       "5    2022-08-07\n",
       "Name: date, dtype: object"
      ]
     },
     "execution_count": 28,
     "metadata": {},
     "output_type": "execute_result"
    }
   ],
   "source": [
    "df1['date'].dt.date"
   ]
  },
  {
   "cell_type": "code",
   "execution_count": 29,
   "id": "06be59d4-f7b1-4e72-87d6-037ddb10b39d",
   "metadata": {},
   "outputs": [
    {
     "data": {
      "text/plain": [
       "0   2022-01-03\n",
       "1   2022-02-15\n",
       "2   2022-03-30\n",
       "3   2022-05-13\n",
       "4   2022-06-25\n",
       "5   2022-08-07\n",
       "Name: date, dtype: datetime64[ns]"
      ]
     },
     "execution_count": 29,
     "metadata": {},
     "output_type": "execute_result"
    }
   ],
   "source": [
    "df1['date'].dt.normalize()"
   ]
  },
  {
   "cell_type": "code",
   "execution_count": 30,
   "id": "e272859b-ee2d-48f5-97f3-1758df7f3d09",
   "metadata": {},
   "outputs": [
    {
     "data": {
      "text/plain": [
       "0    00:00:00\n",
       "1    09:10:00\n",
       "2    18:20:00\n",
       "3    03:30:00\n",
       "4    12:40:00\n",
       "5    21:50:00\n",
       "Name: date, dtype: object"
      ]
     },
     "execution_count": 30,
     "metadata": {},
     "output_type": "execute_result"
    }
   ],
   "source": [
    "df1['date'].dt.time"
   ]
  },
  {
   "cell_type": "code",
   "execution_count": 31,
   "id": "c795d273-9782-44d1-9f39-f8981dc21262",
   "metadata": {},
   "outputs": [
    {
     "data": {
      "text/html": [
       "<div>\n",
       "<style scoped>\n",
       "    .dataframe tbody tr th:only-of-type {\n",
       "        vertical-align: middle;\n",
       "    }\n",
       "\n",
       "    .dataframe tbody tr th {\n",
       "        vertical-align: top;\n",
       "    }\n",
       "\n",
       "    .dataframe thead th {\n",
       "        text-align: right;\n",
       "    }\n",
       "</style>\n",
       "<table border=\"1\" class=\"dataframe\">\n",
       "  <thead>\n",
       "    <tr style=\"text-align: right;\">\n",
       "      <th></th>\n",
       "      <th>year</th>\n",
       "      <th>week</th>\n",
       "      <th>day</th>\n",
       "    </tr>\n",
       "  </thead>\n",
       "  <tbody>\n",
       "    <tr>\n",
       "      <th>0</th>\n",
       "      <td>2022</td>\n",
       "      <td>1</td>\n",
       "      <td>1</td>\n",
       "    </tr>\n",
       "    <tr>\n",
       "      <th>1</th>\n",
       "      <td>2022</td>\n",
       "      <td>7</td>\n",
       "      <td>2</td>\n",
       "    </tr>\n",
       "    <tr>\n",
       "      <th>2</th>\n",
       "      <td>2022</td>\n",
       "      <td>13</td>\n",
       "      <td>3</td>\n",
       "    </tr>\n",
       "    <tr>\n",
       "      <th>3</th>\n",
       "      <td>2022</td>\n",
       "      <td>19</td>\n",
       "      <td>5</td>\n",
       "    </tr>\n",
       "    <tr>\n",
       "      <th>4</th>\n",
       "      <td>2022</td>\n",
       "      <td>25</td>\n",
       "      <td>6</td>\n",
       "    </tr>\n",
       "    <tr>\n",
       "      <th>5</th>\n",
       "      <td>2022</td>\n",
       "      <td>31</td>\n",
       "      <td>7</td>\n",
       "    </tr>\n",
       "  </tbody>\n",
       "</table>\n",
       "</div>"
      ],
      "text/plain": [
       "   year  week  day\n",
       "0  2022     1    1\n",
       "1  2022     7    2\n",
       "2  2022    13    3\n",
       "3  2022    19    5\n",
       "4  2022    25    6\n",
       "5  2022    31    7"
      ]
     },
     "execution_count": 31,
     "metadata": {},
     "output_type": "execute_result"
    }
   ],
   "source": [
    "# 연도 주 날짜를 데이터 프레임으로(주로 주를 추출할 때 쓴다)\n",
    "df1['date'].dt.isocalendar()"
   ]
  },
  {
   "cell_type": "code",
   "execution_count": 32,
   "id": "5bcbb2c6-d23d-403a-b3bd-2e138425330e",
   "metadata": {},
   "outputs": [
    {
     "data": {
      "text/plain": [
       "Index([2022, 2022, 2022, 2022, 2022, 2022], dtype='int32')"
      ]
     },
     "execution_count": 32,
     "metadata": {},
     "output_type": "execute_result"
    }
   ],
   "source": [
    "# 인덱스에서 쓸 경우 dt 접근자 사용 안함\n",
    "df2.index.year"
   ]
  },
  {
   "cell_type": "code",
   "execution_count": 33,
   "id": "f2a8693c-7628-44b1-bd24-953b5314334d",
   "metadata": {},
   "outputs": [
    {
     "data": {
      "text/plain": [
       "0    01/03/22\n",
       "1    02/15/22\n",
       "2    03/30/22\n",
       "3    05/13/22\n",
       "4    06/25/22\n",
       "5    08/07/22\n",
       "Name: date, dtype: object"
      ]
     },
     "execution_count": 33,
     "metadata": {},
     "output_type": "execute_result"
    }
   ],
   "source": [
    "# 표기형식 변형(object)\n",
    "df1['date'].dt.strftime('%m/%d/%y')"
   ]
  },
  {
   "cell_type": "code",
   "execution_count": 34,
   "id": "7ae33d48-150c-493f-bb3c-dcf41675f264",
   "metadata": {},
   "outputs": [
    {
     "data": {
      "text/plain": [
       "0    01/03/22 [Mon]\n",
       "1    02/15/22 [Tue]\n",
       "2    03/30/22 [Wed]\n",
       "3    05/13/22 [Fri]\n",
       "4    06/25/22 [Sat]\n",
       "5    08/07/22 [Sun]\n",
       "Name: date, dtype: object"
      ]
     },
     "execution_count": 34,
     "metadata": {},
     "output_type": "execute_result"
    }
   ],
   "source": [
    "df1['date'].dt.strftime('%m/%d/%y [%a]')"
   ]
  },
  {
   "cell_type": "code",
   "execution_count": 35,
   "id": "2a0a440d-cdc1-4a35-b957-4dd3720d2f1c",
   "metadata": {},
   "outputs": [
    {
     "data": {
      "text/plain": [
       "0    2022-01\n",
       "1    2022-02\n",
       "2    2022-03\n",
       "3    2022-05\n",
       "4    2022-06\n",
       "5    2022-08\n",
       "Name: date, dtype: object"
      ]
     },
     "execution_count": 35,
     "metadata": {},
     "output_type": "execute_result"
    }
   ],
   "source": [
    "df1['date'].dt.strftime('%Y-%m')"
   ]
  },
  {
   "cell_type": "code",
   "execution_count": 36,
   "id": "7f387d1c-729d-4be0-becc-938021ed0e84",
   "metadata": {},
   "outputs": [
    {
     "data": {
      "text/plain": [
       "0    2022-01\n",
       "1    2022-02\n",
       "2    2022-03\n",
       "3    2022-05\n",
       "4    2022-06\n",
       "5    2022-08\n",
       "Name: date, dtype: period[M]"
      ]
     },
     "execution_count": 36,
     "metadata": {},
     "output_type": "execute_result"
    }
   ],
   "source": [
    "# to_period\n",
    "df1['date'].dt.to_period(freq='M')"
   ]
  },
  {
   "cell_type": "code",
   "execution_count": 37,
   "id": "47515c31-a6dd-48f6-97f6-723a034afdd0",
   "metadata": {},
   "outputs": [
    {
     "data": {
      "text/plain": [
       "0    2022Q1\n",
       "1    2022Q1\n",
       "2    2022Q1\n",
       "3    2022Q2\n",
       "4    2022Q2\n",
       "5    2022Q3\n",
       "Name: date, dtype: period[Q-DEC]"
      ]
     },
     "execution_count": 37,
     "metadata": {},
     "output_type": "execute_result"
    }
   ],
   "source": [
    "df1['date'].dt.to_period('Q')"
   ]
  },
  {
   "cell_type": "code",
   "execution_count": 38,
   "id": "00f9d2bb-50d1-43ab-a444-662ad46f9404",
   "metadata": {},
   "outputs": [
    {
     "data": {
      "text/html": [
       "<div>\n",
       "<style scoped>\n",
       "    .dataframe tbody tr th:only-of-type {\n",
       "        vertical-align: middle;\n",
       "    }\n",
       "\n",
       "    .dataframe tbody tr th {\n",
       "        vertical-align: top;\n",
       "    }\n",
       "\n",
       "    .dataframe thead th {\n",
       "        text-align: right;\n",
       "    }\n",
       "</style>\n",
       "<table border=\"1\" class=\"dataframe\">\n",
       "  <thead>\n",
       "    <tr style=\"text-align: right;\">\n",
       "      <th></th>\n",
       "      <th>날짜</th>\n",
       "      <th>금액</th>\n",
       "      <th>구분</th>\n",
       "    </tr>\n",
       "  </thead>\n",
       "  <tbody>\n",
       "    <tr>\n",
       "      <th>0</th>\n",
       "      <td>2023-01-01 00:00:00</td>\n",
       "      <td>10000</td>\n",
       "      <td>입금</td>\n",
       "    </tr>\n",
       "    <tr>\n",
       "      <th>1</th>\n",
       "      <td>2023-01-21 09:10:00</td>\n",
       "      <td>20000</td>\n",
       "      <td>입금</td>\n",
       "    </tr>\n",
       "    <tr>\n",
       "      <th>2</th>\n",
       "      <td>2023-02-10 18:20:00</td>\n",
       "      <td>20000</td>\n",
       "      <td>출금</td>\n",
       "    </tr>\n",
       "    <tr>\n",
       "      <th>3</th>\n",
       "      <td>2023-03-03 03:30:00</td>\n",
       "      <td>20000</td>\n",
       "      <td>입금</td>\n",
       "    </tr>\n",
       "    <tr>\n",
       "      <th>4</th>\n",
       "      <td>2023-03-23 12:40:00</td>\n",
       "      <td>30000</td>\n",
       "      <td>입금</td>\n",
       "    </tr>\n",
       "    <tr>\n",
       "      <th>5</th>\n",
       "      <td>2023-04-12 21:50:00</td>\n",
       "      <td>10000</td>\n",
       "      <td>출금</td>\n",
       "    </tr>\n",
       "  </tbody>\n",
       "</table>\n",
       "</div>"
      ],
      "text/plain": [
       "                   날짜     금액  구분\n",
       "0 2023-01-01 00:00:00  10000  입금\n",
       "1 2023-01-21 09:10:00  20000  입금\n",
       "2 2023-02-10 18:20:00  20000  출금\n",
       "3 2023-03-03 03:30:00  20000  입금\n",
       "4 2023-03-23 12:40:00  30000  입금\n",
       "5 2023-04-12 21:50:00  10000  출금"
      ]
     },
     "execution_count": 38,
     "metadata": {},
     "output_type": "execute_result"
    }
   ],
   "source": [
    "# resample\n",
    "idx = pd.date_range('2023-01-01', periods=6, freq='20D 9h 10min')\n",
    "df1 = pd.DataFrame(idx, columns=['날짜'])\n",
    "df1['금액'] = [10000, 20000, 20000, 20000, 30000, 10000]\n",
    "df1['구분'] = ['입금', '입금', '출금', '입금', '입금', '출금']\n",
    "df2 = df1.set_index('날짜')\n",
    "df1"
   ]
  },
  {
   "cell_type": "code",
   "execution_count": 39,
   "id": "854c82d3-f0eb-45cc-8114-8dea8253ffd8",
   "metadata": {},
   "outputs": [
    {
     "data": {
      "text/html": [
       "<div>\n",
       "<style scoped>\n",
       "    .dataframe tbody tr th:only-of-type {\n",
       "        vertical-align: middle;\n",
       "    }\n",
       "\n",
       "    .dataframe tbody tr th {\n",
       "        vertical-align: top;\n",
       "    }\n",
       "\n",
       "    .dataframe thead th {\n",
       "        text-align: right;\n",
       "    }\n",
       "</style>\n",
       "<table border=\"1\" class=\"dataframe\">\n",
       "  <thead>\n",
       "    <tr style=\"text-align: right;\">\n",
       "      <th></th>\n",
       "      <th>날짜</th>\n",
       "      <th>금액</th>\n",
       "      <th>구분</th>\n",
       "      <th>월</th>\n",
       "    </tr>\n",
       "  </thead>\n",
       "  <tbody>\n",
       "    <tr>\n",
       "      <th>0</th>\n",
       "      <td>2023-01-01 00:00:00</td>\n",
       "      <td>10000</td>\n",
       "      <td>입금</td>\n",
       "      <td>2023-01</td>\n",
       "    </tr>\n",
       "    <tr>\n",
       "      <th>1</th>\n",
       "      <td>2023-01-21 09:10:00</td>\n",
       "      <td>20000</td>\n",
       "      <td>입금</td>\n",
       "      <td>2023-01</td>\n",
       "    </tr>\n",
       "    <tr>\n",
       "      <th>2</th>\n",
       "      <td>2023-02-10 18:20:00</td>\n",
       "      <td>20000</td>\n",
       "      <td>출금</td>\n",
       "      <td>2023-02</td>\n",
       "    </tr>\n",
       "    <tr>\n",
       "      <th>3</th>\n",
       "      <td>2023-03-03 03:30:00</td>\n",
       "      <td>20000</td>\n",
       "      <td>입금</td>\n",
       "      <td>2023-03</td>\n",
       "    </tr>\n",
       "    <tr>\n",
       "      <th>4</th>\n",
       "      <td>2023-03-23 12:40:00</td>\n",
       "      <td>30000</td>\n",
       "      <td>입금</td>\n",
       "      <td>2023-03</td>\n",
       "    </tr>\n",
       "    <tr>\n",
       "      <th>5</th>\n",
       "      <td>2023-04-12 21:50:00</td>\n",
       "      <td>10000</td>\n",
       "      <td>출금</td>\n",
       "      <td>2023-04</td>\n",
       "    </tr>\n",
       "  </tbody>\n",
       "</table>\n",
       "</div>"
      ],
      "text/plain": [
       "                   날짜     금액  구분        월\n",
       "0 2023-01-01 00:00:00  10000  입금  2023-01\n",
       "1 2023-01-21 09:10:00  20000  입금  2023-01\n",
       "2 2023-02-10 18:20:00  20000  출금  2023-02\n",
       "3 2023-03-03 03:30:00  20000  입금  2023-03\n",
       "4 2023-03-23 12:40:00  30000  입금  2023-03\n",
       "5 2023-04-12 21:50:00  10000  출금  2023-04"
      ]
     },
     "execution_count": 39,
     "metadata": {},
     "output_type": "execute_result"
    }
   ],
   "source": [
    "df = df1.copy()\n",
    "df['월'] = df['날짜'].dt.strftime('%Y-%m')\n",
    "df"
   ]
  },
  {
   "cell_type": "code",
   "execution_count": 40,
   "id": "da575044-d718-4ea6-a904-6a93dad9a097",
   "metadata": {},
   "outputs": [
    {
     "data": {
      "text/plain": [
       "월\n",
       "2023-01    30000\n",
       "2023-02    20000\n",
       "2023-03    50000\n",
       "2023-04    10000\n",
       "Name: 금액, dtype: int64"
      ]
     },
     "execution_count": 40,
     "metadata": {},
     "output_type": "execute_result"
    }
   ],
   "source": [
    "# groupby로 월별 금액을 집계\n",
    "df.groupby('월')['금액'].sum()"
   ]
  },
  {
   "cell_type": "code",
   "execution_count": 41,
   "id": "3193c2b2-86ef-4ae1-85e8-d5d185fc344e",
   "metadata": {},
   "outputs": [
    {
     "data": {
      "text/plain": [
       "날짜\n",
       "2023-01-31    30000\n",
       "2023-02-28    20000\n",
       "2023-03-31    50000\n",
       "2023-04-30    10000\n",
       "Freq: ME, Name: 금액, dtype: int64"
      ]
     },
     "execution_count": 41,
     "metadata": {},
     "output_type": "execute_result"
    }
   ],
   "source": [
    "# 시계열의 groupby -> resample 주기를 사용 : 열을 따로 만들 필요가 없다.\n",
    "df1.resample('ME', on='날짜')['금액'].sum()"
   ]
  },
  {
   "cell_type": "code",
   "execution_count": 42,
   "id": "8a331237-843d-4e8c-bec7-41174a1966bd",
   "metadata": {},
   "outputs": [
    {
     "data": {
      "text/plain": [
       "날짜\n",
       "2023-03-31    100000\n",
       "2023-06-30     10000\n",
       "Freq: QE-DEC, Name: 금액, dtype: int64"
      ]
     },
     "execution_count": 42,
     "metadata": {},
     "output_type": "execute_result"
    }
   ],
   "source": [
    "df1.resample('QE', on='날짜')['금액'].sum()"
   ]
  },
  {
   "cell_type": "code",
   "execution_count": 43,
   "id": "d89338eb-b2e2-4937-a6df-18ddfb22064f",
   "metadata": {},
   "outputs": [
    {
     "data": {
      "text/plain": [
       "날짜\n",
       "2023-01-01    30000\n",
       "2023-02-01    20000\n",
       "2023-03-01    50000\n",
       "2023-04-01    10000\n",
       "Freq: MS, Name: 금액, dtype: int64"
      ]
     },
     "execution_count": 43,
     "metadata": {},
     "output_type": "execute_result"
    }
   ],
   "source": [
    "df1.resample('MS', on='날짜')['금액'].sum()"
   ]
  },
  {
   "cell_type": "code",
   "execution_count": 44,
   "id": "2d362709-bcd0-41d6-9f60-6553067ce6e2",
   "metadata": {},
   "outputs": [
    {
     "data": {
      "text/html": [
       "<div>\n",
       "<style scoped>\n",
       "    .dataframe tbody tr th:only-of-type {\n",
       "        vertical-align: middle;\n",
       "    }\n",
       "\n",
       "    .dataframe tbody tr th {\n",
       "        vertical-align: top;\n",
       "    }\n",
       "\n",
       "    .dataframe thead th {\n",
       "        text-align: right;\n",
       "    }\n",
       "</style>\n",
       "<table border=\"1\" class=\"dataframe\">\n",
       "  <thead>\n",
       "    <tr style=\"text-align: right;\">\n",
       "      <th>구분</th>\n",
       "      <th>입금</th>\n",
       "      <th>출금</th>\n",
       "    </tr>\n",
       "    <tr>\n",
       "      <th>날짜</th>\n",
       "      <th></th>\n",
       "      <th></th>\n",
       "    </tr>\n",
       "  </thead>\n",
       "  <tbody>\n",
       "    <tr>\n",
       "      <th>2023-01-01</th>\n",
       "      <td>30000.0</td>\n",
       "      <td>NaN</td>\n",
       "    </tr>\n",
       "    <tr>\n",
       "      <th>2023-02-01</th>\n",
       "      <td>0.0</td>\n",
       "      <td>20000.0</td>\n",
       "    </tr>\n",
       "    <tr>\n",
       "      <th>2023-03-01</th>\n",
       "      <td>50000.0</td>\n",
       "      <td>0.0</td>\n",
       "    </tr>\n",
       "    <tr>\n",
       "      <th>2023-04-01</th>\n",
       "      <td>NaN</td>\n",
       "      <td>10000.0</td>\n",
       "    </tr>\n",
       "  </tbody>\n",
       "</table>\n",
       "</div>"
      ],
      "text/plain": [
       "구분               입금       출금\n",
       "날짜                          \n",
       "2023-01-01  30000.0      NaN\n",
       "2023-02-01      0.0  20000.0\n",
       "2023-03-01  50000.0      0.0\n",
       "2023-04-01      NaN  10000.0"
      ]
     },
     "execution_count": 44,
     "metadata": {},
     "output_type": "execute_result"
    }
   ],
   "source": [
    "# 시계열 resample과 groupby를 함께 사용할 때 (groupby부터 사용한다)\n",
    "# 그룹화(g -> r)\n",
    "df1.groupby('구분').resample('MS', on='날짜')['금액'].sum().unstack(0)"
   ]
  },
  {
   "cell_type": "code",
   "execution_count": 45,
   "id": "660e32c6-e3a8-4821-9079-89803614bdb4",
   "metadata": {},
   "outputs": [
    {
     "data": {
      "text/plain": [
       "날짜\n",
       "2023-01-31    30000\n",
       "2023-02-28    20000\n",
       "2023-03-31    50000\n",
       "2023-04-30    10000\n",
       "Freq: ME, Name: 금액, dtype: int64"
      ]
     },
     "execution_count": 45,
     "metadata": {},
     "output_type": "execute_result"
    }
   ],
   "source": [
    "# DatetimeIndex일 때는 on의 지정이 필요없다\n",
    "df2.resample(\"ME\")['금액'].sum()"
   ]
  },
  {
   "cell_type": "markdown",
   "id": "c4418d9d-7a32-4d3f-a481-88a681a638a0",
   "metadata": {},
   "source": [
    "### 온라인 쇼핑몰 프로젝트"
   ]
  },
  {
   "cell_type": "code",
   "execution_count": 46,
   "id": "fc5325ec-3a6f-47b1-a4bc-8fb74be32b8d",
   "metadata": {},
   "outputs": [
    {
     "data": {
      "text/html": [
       "<div>\n",
       "<style scoped>\n",
       "    .dataframe tbody tr th:only-of-type {\n",
       "        vertical-align: middle;\n",
       "    }\n",
       "\n",
       "    .dataframe tbody tr th {\n",
       "        vertical-align: top;\n",
       "    }\n",
       "\n",
       "    .dataframe thead th {\n",
       "        text-align: right;\n",
       "    }\n",
       "</style>\n",
       "<table border=\"1\" class=\"dataframe\">\n",
       "  <thead>\n",
       "    <tr style=\"text-align: right;\">\n",
       "      <th></th>\n",
       "      <th>유저코드</th>\n",
       "      <th>카테고리</th>\n",
       "      <th>제품코드</th>\n",
       "      <th>가격</th>\n",
       "      <th>행동</th>\n",
       "    </tr>\n",
       "    <tr>\n",
       "      <th>시간</th>\n",
       "      <th></th>\n",
       "      <th></th>\n",
       "      <th></th>\n",
       "      <th></th>\n",
       "      <th></th>\n",
       "    </tr>\n",
       "  </thead>\n",
       "  <tbody>\n",
       "    <tr>\n",
       "      <th>2022-06-01 00:00:01</th>\n",
       "      <td>u514028527</td>\n",
       "      <td>패션</td>\n",
       "      <td>p1307115</td>\n",
       "      <td>411.59</td>\n",
       "      <td>V</td>\n",
       "    </tr>\n",
       "    <tr>\n",
       "      <th>2022-06-01 00:00:13</th>\n",
       "      <td>u550193582</td>\n",
       "      <td>화장품</td>\n",
       "      <td>p12705151</td>\n",
       "      <td>51.22</td>\n",
       "      <td>V</td>\n",
       "    </tr>\n",
       "    <tr>\n",
       "      <th>2022-06-01 00:00:13</th>\n",
       "      <td>u551977964</td>\n",
       "      <td>식품</td>\n",
       "      <td>p4100249</td>\n",
       "      <td>583.80</td>\n",
       "      <td>V</td>\n",
       "    </tr>\n",
       "    <tr>\n",
       "      <th>2022-06-01 00:00:19</th>\n",
       "      <td>u542985695</td>\n",
       "      <td>식품</td>\n",
       "      <td>p12705928</td>\n",
       "      <td>139.58</td>\n",
       "      <td>V</td>\n",
       "    </tr>\n",
       "    <tr>\n",
       "      <th>2022-06-01 00:00:31</th>\n",
       "      <td>u561564372</td>\n",
       "      <td>화장품</td>\n",
       "      <td>p26403348</td>\n",
       "      <td>84.43</td>\n",
       "      <td>V</td>\n",
       "    </tr>\n",
       "    <tr>\n",
       "      <th>...</th>\n",
       "      <td>...</td>\n",
       "      <td>...</td>\n",
       "      <td>...</td>\n",
       "      <td>...</td>\n",
       "      <td>...</td>\n",
       "    </tr>\n",
       "    <tr>\n",
       "      <th>2022-06-07 23:59:35</th>\n",
       "      <td>u521492259</td>\n",
       "      <td>패션</td>\n",
       "      <td>p12702930</td>\n",
       "      <td>35.78</td>\n",
       "      <td>V</td>\n",
       "    </tr>\n",
       "    <tr>\n",
       "      <th>2022-06-07 23:59:41</th>\n",
       "      <td>u548223253</td>\n",
       "      <td>식품</td>\n",
       "      <td>p4000169</td>\n",
       "      <td>102.94</td>\n",
       "      <td>V</td>\n",
       "    </tr>\n",
       "    <tr>\n",
       "      <th>2022-06-07 23:59:47</th>\n",
       "      <td>u566067205</td>\n",
       "      <td>인테리어</td>\n",
       "      <td>p16300035</td>\n",
       "      <td>31.92</td>\n",
       "      <td>V</td>\n",
       "    </tr>\n",
       "    <tr>\n",
       "      <th>2022-06-07 23:59:56</th>\n",
       "      <td>u553835872</td>\n",
       "      <td>가전</td>\n",
       "      <td>p1005192</td>\n",
       "      <td>205.67</td>\n",
       "      <td>V</td>\n",
       "    </tr>\n",
       "    <tr>\n",
       "      <th>2022-06-07 23:59:59</th>\n",
       "      <td>u518620512</td>\n",
       "      <td>식품</td>\n",
       "      <td>p3600661</td>\n",
       "      <td>306.05</td>\n",
       "      <td>V</td>\n",
       "    </tr>\n",
       "  </tbody>\n",
       "</table>\n",
       "<p>81433 rows × 5 columns</p>\n",
       "</div>"
      ],
      "text/plain": [
       "                           유저코드  카테고리       제품코드      가격 행동\n",
       "시간                                                         \n",
       "2022-06-01 00:00:01  u514028527    패션   p1307115  411.59  V\n",
       "2022-06-01 00:00:13  u550193582   화장품  p12705151   51.22  V\n",
       "2022-06-01 00:00:13  u551977964    식품   p4100249  583.80  V\n",
       "2022-06-01 00:00:19  u542985695    식품  p12705928  139.58  V\n",
       "2022-06-01 00:00:31  u561564372   화장품  p26403348   84.43  V\n",
       "...                         ...   ...        ...     ... ..\n",
       "2022-06-07 23:59:35  u521492259    패션  p12702930   35.78  V\n",
       "2022-06-07 23:59:41  u548223253    식품   p4000169  102.94  V\n",
       "2022-06-07 23:59:47  u566067205  인테리어  p16300035   31.92  V\n",
       "2022-06-07 23:59:56  u553835872    가전   p1005192  205.67  V\n",
       "2022-06-07 23:59:59  u518620512    식품   p3600661  306.05  V\n",
       "\n",
       "[81433 rows x 5 columns]"
      ]
     },
     "execution_count": 46,
     "metadata": {},
     "output_type": "execute_result"
    }
   ],
   "source": [
    "url = 'https://raw.githubusercontent.com/panda-kim/csv_files/main/shop_data.csv'\n",
    "# csv파일에서 부를때 datetime으로 지정하고 index로 지정하기\n",
    "df_ex1 = pd.read_csv(url, parse_dates=['시간'], index_col=0)\n",
    "df_ex1 # 행동 열 : V(view), C(cart), B(buy)"
   ]
  },
  {
   "cell_type": "code",
   "execution_count": 47,
   "id": "d319aa0e-0d9a-47e1-8f0a-b059593b9d1f",
   "metadata": {},
   "outputs": [
    {
     "name": "stdout",
     "output_type": "stream",
     "text": [
      "<class 'pandas.core.frame.DataFrame'>\n",
      "DatetimeIndex: 81433 entries, 2022-06-01 00:00:01 to 2022-06-07 23:59:59\n",
      "Data columns (total 5 columns):\n",
      " #   Column  Non-Null Count  Dtype  \n",
      "---  ------  --------------  -----  \n",
      " 0   유저코드    81433 non-null  object \n",
      " 1   카테고리    81433 non-null  object \n",
      " 2   제품코드    81433 non-null  object \n",
      " 3   가격      81433 non-null  float64\n",
      " 4   행동      81433 non-null  object \n",
      "dtypes: float64(1), object(4)\n",
      "memory usage: 3.7+ MB\n"
     ]
    }
   ],
   "source": [
    "df_ex1.info()"
   ]
  },
  {
   "cell_type": "code",
   "execution_count": 48,
   "id": "421825ca-ca8b-480b-87b3-4bdbd3419845",
   "metadata": {},
   "outputs": [
    {
     "data": {
      "text/plain": [
       "시간\n",
       "2022-06-01    16974\n",
       "2022-06-02    12815\n",
       "2022-06-03    10063\n",
       "2022-06-04     9892\n",
       "2022-06-05     9285\n",
       "2022-06-06     9141\n",
       "2022-06-07    13263\n",
       "Freq: D, Name: 가격, dtype: int64"
      ]
     },
     "execution_count": 48,
     "metadata": {},
     "output_type": "execute_result"
    }
   ],
   "source": [
    "df_ex1.resample('D')['가격'].count()"
   ]
  },
  {
   "cell_type": "code",
   "execution_count": 49,
   "id": "6748c2ce-8df5-498e-b901-3675389047e3",
   "metadata": {},
   "outputs": [
    {
     "data": {
      "text/plain": [
       "<Axes: >"
      ]
     },
     "execution_count": 49,
     "metadata": {},
     "output_type": "execute_result"
    },
    {
     "data": {
      "image/png": "[encoded data removed]",
      "text/plain": [
       "<Figure size 640x480 with 1 Axes>"
      ]
     },
     "metadata": {},
     "output_type": "display_data"
    }
   ],
   "source": [
    "df_ex1.resample('D')['가격'].count().rename_axis('').plot(kind='bar')"
   ]
  },
  {
   "cell_type": "code",
   "execution_count": 50,
   "id": "40e64ee1-ea8a-4f6b-8531-8bb9ae32e58c",
   "metadata": {},
   "outputs": [
    {
     "data": {
      "text/plain": [
       "행동  시간        \n",
       "B   2022-06-01       75\n",
       "    2022-06-02       72\n",
       "    2022-06-03       61\n",
       "    2022-06-04       63\n",
       "    2022-06-05       46\n",
       "    2022-06-06       35\n",
       "    2022-06-07       60\n",
       "C   2022-06-01       91\n",
       "    2022-06-02       87\n",
       "    2022-06-03       81\n",
       "    2022-06-04       63\n",
       "    2022-06-05       64\n",
       "    2022-06-06       60\n",
       "    2022-06-07       93\n",
       "V   2022-06-01    16808\n",
       "    2022-06-02    12656\n",
       "    2022-06-03     9921\n",
       "    2022-06-04     9766\n",
       "    2022-06-05     9175\n",
       "    2022-06-06     9046\n",
       "    2022-06-07    13110\n",
       "Name: 가격, dtype: int64"
      ]
     },
     "execution_count": 50,
     "metadata": {},
     "output_type": "execute_result"
    }
   ],
   "source": [
    "df_ex1.groupby('행동').resample('D')['가격'].count()"
   ]
  },
  {
   "cell_type": "code",
   "execution_count": 51,
   "id": "140bc19a-261e-4b31-b780-7dbcf5ada9fc",
   "metadata": {},
   "outputs": [
    {
     "data": {
      "text/html": [
       "<div>\n",
       "<style scoped>\n",
       "    .dataframe tbody tr th:only-of-type {\n",
       "        vertical-align: middle;\n",
       "    }\n",
       "\n",
       "    .dataframe tbody tr th {\n",
       "        vertical-align: top;\n",
       "    }\n",
       "\n",
       "    .dataframe thead th {\n",
       "        text-align: right;\n",
       "    }\n",
       "</style>\n",
       "<table border=\"1\" class=\"dataframe\">\n",
       "  <thead>\n",
       "    <tr style=\"text-align: right;\">\n",
       "      <th>행동</th>\n",
       "      <th>B</th>\n",
       "      <th>C</th>\n",
       "      <th>V</th>\n",
       "    </tr>\n",
       "    <tr>\n",
       "      <th>시간</th>\n",
       "      <th></th>\n",
       "      <th></th>\n",
       "      <th></th>\n",
       "    </tr>\n",
       "  </thead>\n",
       "  <tbody>\n",
       "    <tr>\n",
       "      <th>2022-06-01</th>\n",
       "      <td>75</td>\n",
       "      <td>91</td>\n",
       "      <td>16808</td>\n",
       "    </tr>\n",
       "    <tr>\n",
       "      <th>2022-06-02</th>\n",
       "      <td>72</td>\n",
       "      <td>87</td>\n",
       "      <td>12656</td>\n",
       "    </tr>\n",
       "    <tr>\n",
       "      <th>2022-06-03</th>\n",
       "      <td>61</td>\n",
       "      <td>81</td>\n",
       "      <td>9921</td>\n",
       "    </tr>\n",
       "    <tr>\n",
       "      <th>2022-06-04</th>\n",
       "      <td>63</td>\n",
       "      <td>63</td>\n",
       "      <td>9766</td>\n",
       "    </tr>\n",
       "    <tr>\n",
       "      <th>2022-06-05</th>\n",
       "      <td>46</td>\n",
       "      <td>64</td>\n",
       "      <td>9175</td>\n",
       "    </tr>\n",
       "    <tr>\n",
       "      <th>2022-06-06</th>\n",
       "      <td>35</td>\n",
       "      <td>60</td>\n",
       "      <td>9046</td>\n",
       "    </tr>\n",
       "    <tr>\n",
       "      <th>2022-06-07</th>\n",
       "      <td>60</td>\n",
       "      <td>93</td>\n",
       "      <td>13110</td>\n",
       "    </tr>\n",
       "  </tbody>\n",
       "</table>\n",
       "</div>"
      ],
      "text/plain": [
       "행동           B   C      V\n",
       "시간                       \n",
       "2022-06-01  75  91  16808\n",
       "2022-06-02  72  87  12656\n",
       "2022-06-03  61  81   9921\n",
       "2022-06-04  63  63   9766\n",
       "2022-06-05  46  64   9175\n",
       "2022-06-06  35  60   9046\n",
       "2022-06-07  60  93  13110"
      ]
     },
     "execution_count": 51,
     "metadata": {},
     "output_type": "execute_result"
    }
   ],
   "source": [
    "df_ex1.groupby('행동').resample('D')['가격'].count().unstack(0) # 멀티 인덱스일때 unstack 사용"
   ]
  }
 ],
 "metadata": {
  "kernelspec": {
   "display_name": "data_projects",
   "language": "python",
   "name": "data_projects"
  },
  "language_info": {
   "codemirror_mode": {
    "name": "ipython",
    "version": 3
   },
   "file_extension": ".py",
   "mimetype": "text/x-python",
   "name": "python",
   "nbconvert_exporter": "python",
   "pygments_lexer": "ipython3",
   "version": "3.11.9"
  }
 },
 "nbformat": 4,
 "nbformat_minor": 5
}
