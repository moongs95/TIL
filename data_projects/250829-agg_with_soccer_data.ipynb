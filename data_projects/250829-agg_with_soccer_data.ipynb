{
 "cells": [
  {
   "cell_type": "code",
   "execution_count": 1,
   "id": "f3e814db-860b-4db9-a1fc-c44c68503124",
   "metadata": {},
   "outputs": [],
   "source": [
    "import pandas as pd\n",
    "import numpy as np"
   ]
  },
  {
   "cell_type": "code",
   "execution_count": 2,
   "id": "85e4a3f2-3486-4e59-bd21-380ab46af64d",
   "metadata": {},
   "outputs": [
    {
     "data": {
      "text/html": [
       "<div>\n",
       "<style scoped>\n",
       "    .dataframe tbody tr th:only-of-type {\n",
       "        vertical-align: middle;\n",
       "    }\n",
       "\n",
       "    .dataframe tbody tr th {\n",
       "        vertical-align: top;\n",
       "    }\n",
       "\n",
       "    .dataframe thead th {\n",
       "        text-align: right;\n",
       "    }\n",
       "</style>\n",
       "<table border=\"1\" class=\"dataframe\">\n",
       "  <thead>\n",
       "    <tr style=\"text-align: right;\">\n",
       "      <th></th>\n",
       "      <th>date</th>\n",
       "      <th>nation</th>\n",
       "      <th>continent</th>\n",
       "      <th>H/A</th>\n",
       "      <th>oppenent</th>\n",
       "      <th>o_continent</th>\n",
       "      <th>score</th>\n",
       "      <th>o_score</th>\n",
       "      <th>tournament</th>\n",
       "      <th>result</th>\n",
       "    </tr>\n",
       "  </thead>\n",
       "  <tbody>\n",
       "    <tr>\n",
       "      <th>0</th>\n",
       "      <td>1993-08-08</td>\n",
       "      <td>Bolivia</td>\n",
       "      <td>South America</td>\n",
       "      <td>Home</td>\n",
       "      <td>Uruguay</td>\n",
       "      <td>South America</td>\n",
       "      <td>3</td>\n",
       "      <td>1</td>\n",
       "      <td>Others</td>\n",
       "      <td>Win</td>\n",
       "    </tr>\n",
       "    <tr>\n",
       "      <th>1</th>\n",
       "      <td>1993-08-08</td>\n",
       "      <td>Uruguay</td>\n",
       "      <td>South America</td>\n",
       "      <td>Away</td>\n",
       "      <td>Bolivia</td>\n",
       "      <td>South America</td>\n",
       "      <td>1</td>\n",
       "      <td>3</td>\n",
       "      <td>Others</td>\n",
       "      <td>Lose</td>\n",
       "    </tr>\n",
       "    <tr>\n",
       "      <th>2</th>\n",
       "      <td>1993-08-08</td>\n",
       "      <td>Mexico</td>\n",
       "      <td>North America</td>\n",
       "      <td>Home</td>\n",
       "      <td>Brazil</td>\n",
       "      <td>South America</td>\n",
       "      <td>1</td>\n",
       "      <td>1</td>\n",
       "      <td>Frendly</td>\n",
       "      <td>Draw</td>\n",
       "    </tr>\n",
       "    <tr>\n",
       "      <th>3</th>\n",
       "      <td>1993-08-08</td>\n",
       "      <td>Brazil</td>\n",
       "      <td>South America</td>\n",
       "      <td>Away</td>\n",
       "      <td>Mexico</td>\n",
       "      <td>North America</td>\n",
       "      <td>1</td>\n",
       "      <td>1</td>\n",
       "      <td>Frendly</td>\n",
       "      <td>Draw</td>\n",
       "    </tr>\n",
       "    <tr>\n",
       "      <th>4</th>\n",
       "      <td>1993-08-08</td>\n",
       "      <td>Ecuador</td>\n",
       "      <td>South America</td>\n",
       "      <td>Home</td>\n",
       "      <td>Venezuela</td>\n",
       "      <td>South America</td>\n",
       "      <td>5</td>\n",
       "      <td>0</td>\n",
       "      <td>Others</td>\n",
       "      <td>Win</td>\n",
       "    </tr>\n",
       "    <tr>\n",
       "      <th>...</th>\n",
       "      <td>...</td>\n",
       "      <td>...</td>\n",
       "      <td>...</td>\n",
       "      <td>...</td>\n",
       "      <td>...</td>\n",
       "      <td>...</td>\n",
       "      <td>...</td>\n",
       "      <td>...</td>\n",
       "      <td>...</td>\n",
       "      <td>...</td>\n",
       "    </tr>\n",
       "    <tr>\n",
       "      <th>47837</th>\n",
       "      <td>2022-06-14</td>\n",
       "      <td>Chile</td>\n",
       "      <td>South America</td>\n",
       "      <td>Away</td>\n",
       "      <td>Ghana</td>\n",
       "      <td>Africa</td>\n",
       "      <td>0</td>\n",
       "      <td>0</td>\n",
       "      <td>Others</td>\n",
       "      <td>Draw</td>\n",
       "    </tr>\n",
       "    <tr>\n",
       "      <th>47838</th>\n",
       "      <td>2022-06-14</td>\n",
       "      <td>Tunisia</td>\n",
       "      <td>Africa</td>\n",
       "      <td>Home</td>\n",
       "      <td>Japan</td>\n",
       "      <td>Asia</td>\n",
       "      <td>3</td>\n",
       "      <td>0</td>\n",
       "      <td>Others</td>\n",
       "      <td>Win</td>\n",
       "    </tr>\n",
       "    <tr>\n",
       "      <th>47839</th>\n",
       "      <td>2022-06-14</td>\n",
       "      <td>Japan</td>\n",
       "      <td>Asia</td>\n",
       "      <td>Away</td>\n",
       "      <td>Tunisia</td>\n",
       "      <td>Africa</td>\n",
       "      <td>0</td>\n",
       "      <td>3</td>\n",
       "      <td>Others</td>\n",
       "      <td>Lose</td>\n",
       "    </tr>\n",
       "    <tr>\n",
       "      <th>47840</th>\n",
       "      <td>2022-06-14</td>\n",
       "      <td>Korea</td>\n",
       "      <td>Asia</td>\n",
       "      <td>Home</td>\n",
       "      <td>Egypt</td>\n",
       "      <td>Africa</td>\n",
       "      <td>4</td>\n",
       "      <td>1</td>\n",
       "      <td>Frendly</td>\n",
       "      <td>Win</td>\n",
       "    </tr>\n",
       "    <tr>\n",
       "      <th>47841</th>\n",
       "      <td>2022-06-14</td>\n",
       "      <td>Egypt</td>\n",
       "      <td>Africa</td>\n",
       "      <td>Away</td>\n",
       "      <td>Korea</td>\n",
       "      <td>Asia</td>\n",
       "      <td>1</td>\n",
       "      <td>4</td>\n",
       "      <td>Frendly</td>\n",
       "      <td>Lose</td>\n",
       "    </tr>\n",
       "  </tbody>\n",
       "</table>\n",
       "<p>47842 rows × 10 columns</p>\n",
       "</div>"
      ],
      "text/plain": [
       "            date   nation      continent   H/A   oppenent    o_continent  \\\n",
       "0     1993-08-08  Bolivia  South America  Home    Uruguay  South America   \n",
       "1     1993-08-08  Uruguay  South America  Away    Bolivia  South America   \n",
       "2     1993-08-08   Mexico  North America  Home     Brazil  South America   \n",
       "3     1993-08-08   Brazil  South America  Away     Mexico  North America   \n",
       "4     1993-08-08  Ecuador  South America  Home  Venezuela  South America   \n",
       "...          ...      ...            ...   ...        ...            ...   \n",
       "47837 2022-06-14    Chile  South America  Away      Ghana         Africa   \n",
       "47838 2022-06-14  Tunisia         Africa  Home      Japan           Asia   \n",
       "47839 2022-06-14    Japan           Asia  Away    Tunisia         Africa   \n",
       "47840 2022-06-14    Korea           Asia  Home      Egypt         Africa   \n",
       "47841 2022-06-14    Egypt         Africa  Away      Korea           Asia   \n",
       "\n",
       "       score  o_score tournament result  \n",
       "0          3        1     Others    Win  \n",
       "1          1        3     Others   Lose  \n",
       "2          1        1    Frendly   Draw  \n",
       "3          1        1    Frendly   Draw  \n",
       "4          5        0     Others    Win  \n",
       "...      ...      ...        ...    ...  \n",
       "47837      0        0     Others   Draw  \n",
       "47838      3        0     Others    Win  \n",
       "47839      0        3     Others   Lose  \n",
       "47840      4        1    Frendly    Win  \n",
       "47841      1        4    Frendly   Lose  \n",
       "\n",
       "[47842 rows x 10 columns]"
      ]
     },
     "execution_count": 2,
     "metadata": {},
     "output_type": "execute_result"
    }
   ],
   "source": [
    "# value_counts\n",
    "pd.options.display.float_format = '{:.2f}'.format # 소수점 두자리 까지만 출력\n",
    "url = 'https://raw.githubusercontent.com/panda-kim/csv_files/main/soccer_match.csv'\n",
    "df = pd.read_csv(url, parse_dates=['date'])\n",
    "df"
   ]
  },
  {
   "cell_type": "code",
   "execution_count": 3,
   "id": "3c0614a7-cef9-4306-8632-e2b647dee5d0",
   "metadata": {},
   "outputs": [
    {
     "name": "stdout",
     "output_type": "stream",
     "text": [
      "<class 'pandas.core.frame.DataFrame'>\n",
      "RangeIndex: 47842 entries, 0 to 47841\n",
      "Data columns (total 10 columns):\n",
      " #   Column       Non-Null Count  Dtype         \n",
      "---  ------       --------------  -----         \n",
      " 0   date         47842 non-null  datetime64[ns]\n",
      " 1   nation       47842 non-null  object        \n",
      " 2   continent    47842 non-null  object        \n",
      " 3   H/A          47842 non-null  object        \n",
      " 4   oppenent     47842 non-null  object        \n",
      " 5   o_continent  47842 non-null  object        \n",
      " 6   score        47842 non-null  int64         \n",
      " 7   o_score      47842 non-null  int64         \n",
      " 8   tournament   47842 non-null  object        \n",
      " 9   result       47842 non-null  object        \n",
      "dtypes: datetime64[ns](1), int64(2), object(7)\n",
      "memory usage: 3.7+ MB\n"
     ]
    }
   ],
   "source": [
    "df.info()"
   ]
  },
  {
   "cell_type": "code",
   "execution_count": 4,
   "id": "b93ea321-12e3-486a-abf0-2baa152f07fe",
   "metadata": {},
   "outputs": [
    {
     "data": {
      "text/plain": [
       "nation\n",
       "Mexico          517\n",
       "Saudi Arabia    471\n",
       "USA             464\n",
       "Korea           436\n",
       "Brazil          433\n",
       "Name: count, dtype: int64"
      ]
     },
     "execution_count": 4,
     "metadata": {},
     "output_type": "execute_result"
    }
   ],
   "source": [
    "# 경기수가 많은 나라 top5\n",
    "df['nation'].value_counts()[:5]"
   ]
  },
  {
   "cell_type": "code",
   "execution_count": 5,
   "id": "a8ee4daa-6767-48e2-916d-fab6b531f414",
   "metadata": {},
   "outputs": [
    {
     "data": {
      "text/plain": [
       "<Axes: xlabel='nation'>"
      ]
     },
     "execution_count": 5,
     "metadata": {},
     "output_type": "execute_result"
    },
    {
     "data": {
      "image/png": "[encoded data removed]",
      "text/plain": [
       "<Figure size 640x480 with 1 Axes>"
      ]
     },
     "metadata": {},
     "output_type": "display_data"
    }
   ],
   "source": [
    "df['nation'].value_counts()[:5].plot(kind='bar')"
   ]
  },
  {
   "cell_type": "code",
   "execution_count": 6,
   "id": "b0b2f703-956f-40ab-bc8d-24367e2c454c",
   "metadata": {},
   "outputs": [
    {
     "data": {
      "text/plain": [
       "nation\n",
       "Brazil     292\n",
       "Mexico     266\n",
       "Spain      241\n",
       "USA        239\n",
       "Germany    237\n",
       "Name: count, dtype: int64"
      ]
     },
     "execution_count": 6,
     "metadata": {},
     "output_type": "execute_result"
    }
   ],
   "source": [
    "# 승리 많은 나라 top5\n",
    "cond1 = df['result'] == 'Win'\n",
    "df.loc[cond1, 'nation'].value_counts()[:5]"
   ]
  },
  {
   "cell_type": "code",
   "execution_count": 7,
   "id": "caab1a80-3528-4d8c-99ca-5051ba54943c",
   "metadata": {},
   "outputs": [
    {
     "data": {
      "text/plain": [
       "<Axes: xlabel='nation'>"
      ]
     },
     "execution_count": 7,
     "metadata": {},
     "output_type": "execute_result"
    },
    {
     "data": {
      "image/png": "[encoded data removed]",
      "text/plain": [
       "<Figure size 640x480 with 1 Axes>"
      ]
     },
     "metadata": {},
     "output_type": "display_data"
    }
   ],
   "source": [
    "df.loc[cond1, 'nation'].value_counts()[:5].plot(kind='bar')"
   ]
  },
  {
   "cell_type": "code",
   "execution_count": 8,
   "id": "5f72ccbd-ccea-42a1-a5d5-055f029e27b6",
   "metadata": {},
   "outputs": [
    {
     "data": {
      "text/plain": [
       "nation\n",
       "Brazil     954\n",
       "Germany    875\n",
       "Mexico     858\n",
       "Spain      781\n",
       "Japan      776\n",
       "Name: score, dtype: int64"
      ]
     },
     "execution_count": 8,
     "metadata": {},
     "output_type": "execute_result"
    }
   ],
   "source": [
    "# 누적 득점 많은 나라 top5 그래프\n",
    "df.groupby('nation')['score'].sum().sort_values(ascending=False)[:5]"
   ]
  },
  {
   "cell_type": "code",
   "execution_count": 9,
   "id": "8e61637b-7b9e-4e4a-98f1-1d9665d3fe60",
   "metadata": {},
   "outputs": [
    {
     "data": {
      "text/plain": [
       "<Axes: xlabel='nation'>"
      ]
     },
     "execution_count": 9,
     "metadata": {},
     "output_type": "execute_result"
    },
    {
     "data": {
      "image/png": "[encoded data removed]",
      "text/plain": [
       "<Figure size 640x480 with 1 Axes>"
      ]
     },
     "metadata": {},
     "output_type": "display_data"
    }
   ],
   "source": [
    "df.groupby('nation')['score'].sum().sort_values(ascending=False)[:5].plot(kind='bar')"
   ]
  },
  {
   "cell_type": "code",
   "execution_count": 10,
   "id": "e51bc4f8-e7a7-4e40-b55e-bcbc722f2cbc",
   "metadata": {},
   "outputs": [
    {
     "data": {
      "text/plain": [
       "nation\n",
       "Brazil     954\n",
       "Germany    875\n",
       "Mexico     858\n",
       "Spain      781\n",
       "Japan      776\n",
       "Name: score, dtype: int64"
      ]
     },
     "execution_count": 10,
     "metadata": {},
     "output_type": "execute_result"
    }
   ],
   "source": [
    "# nlargest\n",
    "df.groupby('nation')['score'].sum().nlargest(5)"
   ]
  },
  {
   "cell_type": "code",
   "execution_count": 11,
   "id": "b33ad6ef-5939-4c7d-8012-bd6447e49bf5",
   "metadata": {},
   "outputs": [
    {
     "data": {
      "text/plain": [
       "nation\n",
       "Gibraltar                   19\n",
       "Turks and Caicos Islands    20\n",
       "American Samoa              22\n",
       "Cook Islands                22\n",
       "Somalia                     23\n",
       "Name: score, dtype: int64"
      ]
     },
     "execution_count": 11,
     "metadata": {},
     "output_type": "execute_result"
    }
   ],
   "source": [
    "# nsmallest\n",
    "df.groupby('nation')['score'].sum().nsmallest(5)"
   ]
  },
  {
   "cell_type": "code",
   "execution_count": 12,
   "id": "525e3ec7-fa12-4cb8-bce9-86b9b7b235df",
   "metadata": {},
   "outputs": [
    {
     "data": {
      "text/plain": [
       "nation\n",
       "Germany         2.24\n",
       "Spain           2.21\n",
       "Brazil          2.20\n",
       "New Caledonia   2.20\n",
       "Netherlands     2.06\n",
       "Name: score, dtype: float64"
      ]
     },
     "execution_count": 12,
     "metadata": {},
     "output_type": "execute_result"
    }
   ],
   "source": [
    "# 평균 득점이 높은 나라 top 5\n",
    "# df.groupby('nation')['score'].mean().nlargest(5)\n",
    "df.groupby('nation')['score'].mean().sort_values(ascending=False)[:5]"
   ]
  },
  {
   "cell_type": "code",
   "execution_count": 13,
   "id": "87f2c02b-cf58-43da-80ba-a2b3de702dbf",
   "metadata": {},
   "outputs": [
    {
     "data": {
      "text/plain": [
       "nation\n",
       "Germany       2.24\n",
       "Spain         2.21\n",
       "Brazil        2.20\n",
       "Netherlands   2.06\n",
       "Australia     2.05\n",
       "Name: score, dtype: float64"
      ]
     },
     "execution_count": 13,
     "metadata": {},
     "output_type": "execute_result"
    }
   ],
   "source": [
    "# 총 게임수가 100경기 이상의 국가들만의 데이터\n",
    "cond2 = df.groupby('nation')['date'].transform('count') >= 100\n",
    "df[cond2].groupby('nation')['score'].mean().sort_values(ascending=False)[:5]"
   ]
  },
  {
   "cell_type": "code",
   "execution_count": 14,
   "id": "f4e2fc11-7754-4faf-8d94-308404e3e89a",
   "metadata": {},
   "outputs": [
    {
     "data": {
      "text/plain": [
       "<Axes: xlabel='nation'>"
      ]
     },
     "execution_count": 14,
     "metadata": {},
     "output_type": "execute_result"
    },
    {
     "data": {
      "image/png": "[encoded data removed]",
      "text/plain": [
       "<Figure size 640x480 with 1 Axes>"
      ]
     },
     "metadata": {},
     "output_type": "display_data"
    }
   ],
   "source": [
    "df[cond2].groupby('nation')['score'].mean().sort_values(ascending=False)[:5].plot(kind='bar')"
   ]
  },
  {
   "cell_type": "code",
   "execution_count": 15,
   "id": "6e6b1d65-8067-4cd5-b7f9-07f8084fc46d",
   "metadata": {},
   "outputs": [],
   "source": [
    "# 전체 데이터에서 월드컵 관련 데이터만 필터링\n",
    "df['tournament'].unique() #WC\n",
    "cond3 = df['tournament'] == 'WC'"
   ]
  },
  {
   "cell_type": "code",
   "execution_count": 16,
   "id": "532ef5cb-26b5-4ba2-aac1-459a200a335e",
   "metadata": {},
   "outputs": [
    {
     "data": {
      "text/plain": [
       "nation\n",
       "Brazil       81\n",
       "Germany      79\n",
       "Spain        56\n",
       "Argentina    55\n",
       "France       49\n",
       "Name: score, dtype: int64"
      ]
     },
     "execution_count": 16,
     "metadata": {},
     "output_type": "execute_result"
    }
   ],
   "source": [
    "# 월드컵 다득점 상위 5개국\n",
    "df[cond3].groupby('nation')['score'].sum().nlargest(5)"
   ]
  },
  {
   "cell_type": "code",
   "execution_count": 17,
   "id": "6094dde2-3851-4e76-8dce-4b046b1d6f93",
   "metadata": {},
   "outputs": [
    {
     "data": {
      "text/plain": [
       "<Axes: xlabel='nation'>"
      ]
     },
     "execution_count": 17,
     "metadata": {},
     "output_type": "execute_result"
    },
    {
     "data": {
      "image/png": "[encoded data removed]",
      "text/plain": [
       "<Figure size 640x480 with 1 Axes>"
      ]
     },
     "metadata": {},
     "output_type": "display_data"
    }
   ],
   "source": [
    "df[cond3].groupby('nation')['score'].sum().nlargest(5).plot(kind='bar')"
   ]
  },
  {
   "cell_type": "markdown",
   "id": "d15ac2fd-cd0e-4c7b-bf40-ff202d323621",
   "metadata": {},
   "source": [
    "### 한국축구 데이터를 groupby와 resample로 집계하기"
   ]
  },
  {
   "cell_type": "code",
   "execution_count": 18,
   "id": "ef049fc2-f1f6-4fa0-9fa6-faba83d34120",
   "metadata": {},
   "outputs": [
    {
     "data": {
      "text/html": [
       "<div>\n",
       "<style scoped>\n",
       "    .dataframe tbody tr th:only-of-type {\n",
       "        vertical-align: middle;\n",
       "    }\n",
       "\n",
       "    .dataframe tbody tr th {\n",
       "        vertical-align: top;\n",
       "    }\n",
       "\n",
       "    .dataframe thead th {\n",
       "        text-align: right;\n",
       "    }\n",
       "</style>\n",
       "<table border=\"1\" class=\"dataframe\">\n",
       "  <thead>\n",
       "    <tr style=\"text-align: right;\">\n",
       "      <th></th>\n",
       "      <th>date</th>\n",
       "      <th>nation</th>\n",
       "      <th>continent</th>\n",
       "      <th>H/A</th>\n",
       "      <th>oppenent</th>\n",
       "      <th>o_continent</th>\n",
       "      <th>score</th>\n",
       "      <th>o_score</th>\n",
       "      <th>tournament</th>\n",
       "      <th>result</th>\n",
       "    </tr>\n",
       "  </thead>\n",
       "  <tbody>\n",
       "    <tr>\n",
       "      <th>0</th>\n",
       "      <td>1993-08-08</td>\n",
       "      <td>Bolivia</td>\n",
       "      <td>South America</td>\n",
       "      <td>Home</td>\n",
       "      <td>Uruguay</td>\n",
       "      <td>South America</td>\n",
       "      <td>3</td>\n",
       "      <td>1</td>\n",
       "      <td>Others</td>\n",
       "      <td>Win</td>\n",
       "    </tr>\n",
       "    <tr>\n",
       "      <th>1</th>\n",
       "      <td>1993-08-08</td>\n",
       "      <td>Uruguay</td>\n",
       "      <td>South America</td>\n",
       "      <td>Away</td>\n",
       "      <td>Bolivia</td>\n",
       "      <td>South America</td>\n",
       "      <td>1</td>\n",
       "      <td>3</td>\n",
       "      <td>Others</td>\n",
       "      <td>Lose</td>\n",
       "    </tr>\n",
       "    <tr>\n",
       "      <th>2</th>\n",
       "      <td>1993-08-08</td>\n",
       "      <td>Mexico</td>\n",
       "      <td>North America</td>\n",
       "      <td>Home</td>\n",
       "      <td>Brazil</td>\n",
       "      <td>South America</td>\n",
       "      <td>1</td>\n",
       "      <td>1</td>\n",
       "      <td>Frendly</td>\n",
       "      <td>Draw</td>\n",
       "    </tr>\n",
       "    <tr>\n",
       "      <th>3</th>\n",
       "      <td>1993-08-08</td>\n",
       "      <td>Brazil</td>\n",
       "      <td>South America</td>\n",
       "      <td>Away</td>\n",
       "      <td>Mexico</td>\n",
       "      <td>North America</td>\n",
       "      <td>1</td>\n",
       "      <td>1</td>\n",
       "      <td>Frendly</td>\n",
       "      <td>Draw</td>\n",
       "    </tr>\n",
       "    <tr>\n",
       "      <th>4</th>\n",
       "      <td>1993-08-08</td>\n",
       "      <td>Ecuador</td>\n",
       "      <td>South America</td>\n",
       "      <td>Home</td>\n",
       "      <td>Venezuela</td>\n",
       "      <td>South America</td>\n",
       "      <td>5</td>\n",
       "      <td>0</td>\n",
       "      <td>Others</td>\n",
       "      <td>Win</td>\n",
       "    </tr>\n",
       "    <tr>\n",
       "      <th>...</th>\n",
       "      <td>...</td>\n",
       "      <td>...</td>\n",
       "      <td>...</td>\n",
       "      <td>...</td>\n",
       "      <td>...</td>\n",
       "      <td>...</td>\n",
       "      <td>...</td>\n",
       "      <td>...</td>\n",
       "      <td>...</td>\n",
       "      <td>...</td>\n",
       "    </tr>\n",
       "    <tr>\n",
       "      <th>47837</th>\n",
       "      <td>2022-06-14</td>\n",
       "      <td>Chile</td>\n",
       "      <td>South America</td>\n",
       "      <td>Away</td>\n",
       "      <td>Ghana</td>\n",
       "      <td>Africa</td>\n",
       "      <td>0</td>\n",
       "      <td>0</td>\n",
       "      <td>Others</td>\n",
       "      <td>Draw</td>\n",
       "    </tr>\n",
       "    <tr>\n",
       "      <th>47838</th>\n",
       "      <td>2022-06-14</td>\n",
       "      <td>Tunisia</td>\n",
       "      <td>Africa</td>\n",
       "      <td>Home</td>\n",
       "      <td>Japan</td>\n",
       "      <td>Asia</td>\n",
       "      <td>3</td>\n",
       "      <td>0</td>\n",
       "      <td>Others</td>\n",
       "      <td>Win</td>\n",
       "    </tr>\n",
       "    <tr>\n",
       "      <th>47839</th>\n",
       "      <td>2022-06-14</td>\n",
       "      <td>Japan</td>\n",
       "      <td>Asia</td>\n",
       "      <td>Away</td>\n",
       "      <td>Tunisia</td>\n",
       "      <td>Africa</td>\n",
       "      <td>0</td>\n",
       "      <td>3</td>\n",
       "      <td>Others</td>\n",
       "      <td>Lose</td>\n",
       "    </tr>\n",
       "    <tr>\n",
       "      <th>47840</th>\n",
       "      <td>2022-06-14</td>\n",
       "      <td>Korea</td>\n",
       "      <td>Asia</td>\n",
       "      <td>Home</td>\n",
       "      <td>Egypt</td>\n",
       "      <td>Africa</td>\n",
       "      <td>4</td>\n",
       "      <td>1</td>\n",
       "      <td>Frendly</td>\n",
       "      <td>Win</td>\n",
       "    </tr>\n",
       "    <tr>\n",
       "      <th>47841</th>\n",
       "      <td>2022-06-14</td>\n",
       "      <td>Egypt</td>\n",
       "      <td>Africa</td>\n",
       "      <td>Away</td>\n",
       "      <td>Korea</td>\n",
       "      <td>Asia</td>\n",
       "      <td>1</td>\n",
       "      <td>4</td>\n",
       "      <td>Frendly</td>\n",
       "      <td>Lose</td>\n",
       "    </tr>\n",
       "  </tbody>\n",
       "</table>\n",
       "<p>47842 rows × 10 columns</p>\n",
       "</div>"
      ],
      "text/plain": [
       "            date   nation      continent   H/A   oppenent    o_continent  \\\n",
       "0     1993-08-08  Bolivia  South America  Home    Uruguay  South America   \n",
       "1     1993-08-08  Uruguay  South America  Away    Bolivia  South America   \n",
       "2     1993-08-08   Mexico  North America  Home     Brazil  South America   \n",
       "3     1993-08-08   Brazil  South America  Away     Mexico  North America   \n",
       "4     1993-08-08  Ecuador  South America  Home  Venezuela  South America   \n",
       "...          ...      ...            ...   ...        ...            ...   \n",
       "47837 2022-06-14    Chile  South America  Away      Ghana         Africa   \n",
       "47838 2022-06-14  Tunisia         Africa  Home      Japan           Asia   \n",
       "47839 2022-06-14    Japan           Asia  Away    Tunisia         Africa   \n",
       "47840 2022-06-14    Korea           Asia  Home      Egypt         Africa   \n",
       "47841 2022-06-14    Egypt         Africa  Away      Korea           Asia   \n",
       "\n",
       "       score  o_score tournament result  \n",
       "0          3        1     Others    Win  \n",
       "1          1        3     Others   Lose  \n",
       "2          1        1    Frendly   Draw  \n",
       "3          1        1    Frendly   Draw  \n",
       "4          5        0     Others    Win  \n",
       "...      ...      ...        ...    ...  \n",
       "47837      0        0     Others   Draw  \n",
       "47838      3        0     Others    Win  \n",
       "47839      0        3     Others   Lose  \n",
       "47840      4        1    Frendly    Win  \n",
       "47841      1        4    Frendly   Lose  \n",
       "\n",
       "[47842 rows x 10 columns]"
      ]
     },
     "execution_count": 18,
     "metadata": {},
     "output_type": "execute_result"
    }
   ],
   "source": [
    "import pandas as pd\n",
    "pd.options.display.float_format = '{:.2f}'.format # 소수점 두자리 까지만 출력\n",
    "url = 'https://raw.githubusercontent.com/panda-kim/csv_files/main/soccer_match.csv'\n",
    "\n",
    "# date 열을 datetime으로 적용해 데이터 프레임부르기\n",
    "df = pd.read_csv(url, parse_dates=['date'])\n",
    "df"
   ]
  },
  {
   "cell_type": "code",
   "execution_count": 19,
   "id": "0c78e15f-ea3c-40cf-b367-ed1f0e242898",
   "metadata": {},
   "outputs": [
    {
     "data": {
      "text/html": [
       "<div>\n",
       "<style scoped>\n",
       "    .dataframe tbody tr th:only-of-type {\n",
       "        vertical-align: middle;\n",
       "    }\n",
       "\n",
       "    .dataframe tbody tr th {\n",
       "        vertical-align: top;\n",
       "    }\n",
       "\n",
       "    .dataframe thead th {\n",
       "        text-align: right;\n",
       "    }\n",
       "</style>\n",
       "<table border=\"1\" class=\"dataframe\">\n",
       "  <thead>\n",
       "    <tr style=\"text-align: right;\">\n",
       "      <th></th>\n",
       "      <th>nation</th>\n",
       "      <th>continent</th>\n",
       "      <th>H/A</th>\n",
       "      <th>oppenent</th>\n",
       "      <th>o_continent</th>\n",
       "      <th>score</th>\n",
       "      <th>o_score</th>\n",
       "      <th>tournament</th>\n",
       "      <th>result</th>\n",
       "    </tr>\n",
       "    <tr>\n",
       "      <th>date</th>\n",
       "      <th></th>\n",
       "      <th></th>\n",
       "      <th></th>\n",
       "      <th></th>\n",
       "      <th></th>\n",
       "      <th></th>\n",
       "      <th></th>\n",
       "      <th></th>\n",
       "      <th></th>\n",
       "    </tr>\n",
       "  </thead>\n",
       "  <tbody>\n",
       "    <tr>\n",
       "      <th>1993-09-24</th>\n",
       "      <td>Korea</td>\n",
       "      <td>Asia</td>\n",
       "      <td>Away</td>\n",
       "      <td>Australia</td>\n",
       "      <td>Oceania</td>\n",
       "      <td>1</td>\n",
       "      <td>1</td>\n",
       "      <td>Frendly</td>\n",
       "      <td>Draw</td>\n",
       "    </tr>\n",
       "    <tr>\n",
       "      <th>1993-09-26</th>\n",
       "      <td>Korea</td>\n",
       "      <td>Asia</td>\n",
       "      <td>Away</td>\n",
       "      <td>Australia</td>\n",
       "      <td>Oceania</td>\n",
       "      <td>1</td>\n",
       "      <td>0</td>\n",
       "      <td>Frendly</td>\n",
       "      <td>Win</td>\n",
       "    </tr>\n",
       "    <tr>\n",
       "      <th>1993-10-16</th>\n",
       "      <td>Korea</td>\n",
       "      <td>Asia</td>\n",
       "      <td>Away</td>\n",
       "      <td>IR Iran</td>\n",
       "      <td>Asia</td>\n",
       "      <td>3</td>\n",
       "      <td>0</td>\n",
       "      <td>Others</td>\n",
       "      <td>Win</td>\n",
       "    </tr>\n",
       "    <tr>\n",
       "      <th>1993-10-19</th>\n",
       "      <td>Korea</td>\n",
       "      <td>Asia</td>\n",
       "      <td>Home</td>\n",
       "      <td>Iraq</td>\n",
       "      <td>Asia</td>\n",
       "      <td>2</td>\n",
       "      <td>2</td>\n",
       "      <td>Others</td>\n",
       "      <td>Draw</td>\n",
       "    </tr>\n",
       "    <tr>\n",
       "      <th>1993-10-22</th>\n",
       "      <td>Korea</td>\n",
       "      <td>Asia</td>\n",
       "      <td>Away</td>\n",
       "      <td>Saudi Arabia</td>\n",
       "      <td>Asia</td>\n",
       "      <td>1</td>\n",
       "      <td>1</td>\n",
       "      <td>Others</td>\n",
       "      <td>Draw</td>\n",
       "    </tr>\n",
       "    <tr>\n",
       "      <th>...</th>\n",
       "      <td>...</td>\n",
       "      <td>...</td>\n",
       "      <td>...</td>\n",
       "      <td>...</td>\n",
       "      <td>...</td>\n",
       "      <td>...</td>\n",
       "      <td>...</td>\n",
       "      <td>...</td>\n",
       "      <td>...</td>\n",
       "    </tr>\n",
       "    <tr>\n",
       "      <th>2022-03-29</th>\n",
       "      <td>Korea</td>\n",
       "      <td>Asia</td>\n",
       "      <td>Away</td>\n",
       "      <td>United Arab Emirates</td>\n",
       "      <td>Asia</td>\n",
       "      <td>0</td>\n",
       "      <td>1</td>\n",
       "      <td>Others</td>\n",
       "      <td>Lose</td>\n",
       "    </tr>\n",
       "    <tr>\n",
       "      <th>2022-06-02</th>\n",
       "      <td>Korea</td>\n",
       "      <td>Asia</td>\n",
       "      <td>Away</td>\n",
       "      <td>Brazil</td>\n",
       "      <td>South America</td>\n",
       "      <td>1</td>\n",
       "      <td>5</td>\n",
       "      <td>Frendly</td>\n",
       "      <td>Lose</td>\n",
       "    </tr>\n",
       "    <tr>\n",
       "      <th>2022-06-06</th>\n",
       "      <td>Korea</td>\n",
       "      <td>Asia</td>\n",
       "      <td>Home</td>\n",
       "      <td>Chile</td>\n",
       "      <td>South America</td>\n",
       "      <td>2</td>\n",
       "      <td>0</td>\n",
       "      <td>Frendly</td>\n",
       "      <td>Win</td>\n",
       "    </tr>\n",
       "    <tr>\n",
       "      <th>2022-06-10</th>\n",
       "      <td>Korea</td>\n",
       "      <td>Asia</td>\n",
       "      <td>Home</td>\n",
       "      <td>Paraguay</td>\n",
       "      <td>South America</td>\n",
       "      <td>2</td>\n",
       "      <td>2</td>\n",
       "      <td>Frendly</td>\n",
       "      <td>Draw</td>\n",
       "    </tr>\n",
       "    <tr>\n",
       "      <th>2022-06-14</th>\n",
       "      <td>Korea</td>\n",
       "      <td>Asia</td>\n",
       "      <td>Home</td>\n",
       "      <td>Egypt</td>\n",
       "      <td>Africa</td>\n",
       "      <td>4</td>\n",
       "      <td>1</td>\n",
       "      <td>Frendly</td>\n",
       "      <td>Win</td>\n",
       "    </tr>\n",
       "  </tbody>\n",
       "</table>\n",
       "<p>436 rows × 9 columns</p>\n",
       "</div>"
      ],
      "text/plain": [
       "           nation continent   H/A              oppenent    o_continent  score  \\\n",
       "date                                                                            \n",
       "1993-09-24  Korea      Asia  Away             Australia        Oceania      1   \n",
       "1993-09-26  Korea      Asia  Away             Australia        Oceania      1   \n",
       "1993-10-16  Korea      Asia  Away               IR Iran           Asia      3   \n",
       "1993-10-19  Korea      Asia  Home                  Iraq           Asia      2   \n",
       "1993-10-22  Korea      Asia  Away          Saudi Arabia           Asia      1   \n",
       "...           ...       ...   ...                   ...            ...    ...   \n",
       "2022-03-29  Korea      Asia  Away  United Arab Emirates           Asia      0   \n",
       "2022-06-02  Korea      Asia  Away                Brazil  South America      1   \n",
       "2022-06-06  Korea      Asia  Home                 Chile  South America      2   \n",
       "2022-06-10  Korea      Asia  Home              Paraguay  South America      2   \n",
       "2022-06-14  Korea      Asia  Home                 Egypt         Africa      4   \n",
       "\n",
       "            o_score tournament result  \n",
       "date                                   \n",
       "1993-09-24        1    Frendly   Draw  \n",
       "1993-09-26        0    Frendly    Win  \n",
       "1993-10-16        0     Others    Win  \n",
       "1993-10-19        2     Others   Draw  \n",
       "1993-10-22        1     Others   Draw  \n",
       "...             ...        ...    ...  \n",
       "2022-03-29        1     Others   Lose  \n",
       "2022-06-02        5    Frendly   Lose  \n",
       "2022-06-06        0    Frendly    Win  \n",
       "2022-06-10        2    Frendly   Draw  \n",
       "2022-06-14        1    Frendly    Win  \n",
       "\n",
       "[436 rows x 9 columns]"
      ]
     },
     "execution_count": 19,
     "metadata": {},
     "output_type": "execute_result"
    }
   ],
   "source": [
    "# 한국의 데이터만 필터링하고 DatetimeIndex로 만들기\n",
    "cond4 = df['nation'] == 'Korea'\n",
    "df_kr = df[cond4].set_index('date')\n",
    "df_kr"
   ]
  },
  {
   "cell_type": "code",
   "execution_count": 20,
   "id": "e0862d79-22d8-4528-8d51-2c75cb9dd422",
   "metadata": {},
   "outputs": [
    {
     "name": "stdout",
     "output_type": "stream",
     "text": [
      "<class 'pandas.core.frame.DataFrame'>\n",
      "DatetimeIndex: 436 entries, 1993-09-24 to 2022-06-14\n",
      "Data columns (total 9 columns):\n",
      " #   Column       Non-Null Count  Dtype \n",
      "---  ------       --------------  ----- \n",
      " 0   nation       436 non-null    object\n",
      " 1   continent    436 non-null    object\n",
      " 2   H/A          436 non-null    object\n",
      " 3   oppenent     436 non-null    object\n",
      " 4   o_continent  436 non-null    object\n",
      " 5   score        436 non-null    int64 \n",
      " 6   o_score      436 non-null    int64 \n",
      " 7   tournament   436 non-null    object\n",
      " 8   result       436 non-null    object\n",
      "dtypes: int64(2), object(7)\n",
      "memory usage: 34.1+ KB\n"
     ]
    }
   ],
   "source": [
    "df_kr.info()"
   ]
  },
  {
   "cell_type": "code",
   "execution_count": 21,
   "id": "24f0a8f3-76ef-42a1-91c1-2961e8c5fef6",
   "metadata": {},
   "outputs": [
    {
     "data": {
      "text/html": [
       "<div>\n",
       "<style scoped>\n",
       "    .dataframe tbody tr th:only-of-type {\n",
       "        vertical-align: middle;\n",
       "    }\n",
       "\n",
       "    .dataframe tbody tr th {\n",
       "        vertical-align: top;\n",
       "    }\n",
       "\n",
       "    .dataframe thead th {\n",
       "        text-align: right;\n",
       "    }\n",
       "</style>\n",
       "<table border=\"1\" class=\"dataframe\">\n",
       "  <thead>\n",
       "    <tr style=\"text-align: right;\">\n",
       "      <th></th>\n",
       "      <th>nation</th>\n",
       "      <th>continent</th>\n",
       "      <th>H/A</th>\n",
       "      <th>oppenent</th>\n",
       "      <th>o_continent</th>\n",
       "      <th>score</th>\n",
       "      <th>o_score</th>\n",
       "      <th>tournament</th>\n",
       "      <th>result</th>\n",
       "    </tr>\n",
       "    <tr>\n",
       "      <th>date</th>\n",
       "      <th></th>\n",
       "      <th></th>\n",
       "      <th></th>\n",
       "      <th></th>\n",
       "      <th></th>\n",
       "      <th></th>\n",
       "      <th></th>\n",
       "      <th></th>\n",
       "      <th></th>\n",
       "    </tr>\n",
       "  </thead>\n",
       "  <tbody>\n",
       "    <tr>\n",
       "      <th>2002-01-19</th>\n",
       "      <td>Korea</td>\n",
       "      <td>Asia</td>\n",
       "      <td>Home</td>\n",
       "      <td>USA</td>\n",
       "      <td>North America</td>\n",
       "      <td>1</td>\n",
       "      <td>2</td>\n",
       "      <td>Others</td>\n",
       "      <td>Lose</td>\n",
       "    </tr>\n",
       "    <tr>\n",
       "      <th>2002-01-23</th>\n",
       "      <td>Korea</td>\n",
       "      <td>Asia</td>\n",
       "      <td>Away</td>\n",
       "      <td>Cuba</td>\n",
       "      <td>North America</td>\n",
       "      <td>0</td>\n",
       "      <td>0</td>\n",
       "      <td>Others</td>\n",
       "      <td>Draw</td>\n",
       "    </tr>\n",
       "    <tr>\n",
       "      <th>2002-01-27</th>\n",
       "      <td>Korea</td>\n",
       "      <td>Asia</td>\n",
       "      <td>Home</td>\n",
       "      <td>Mexico</td>\n",
       "      <td>North America</td>\n",
       "      <td>0</td>\n",
       "      <td>0</td>\n",
       "      <td>Others</td>\n",
       "      <td>Draw</td>\n",
       "    </tr>\n",
       "    <tr>\n",
       "      <th>2002-01-30</th>\n",
       "      <td>Korea</td>\n",
       "      <td>Asia</td>\n",
       "      <td>Home</td>\n",
       "      <td>Costa Rica</td>\n",
       "      <td>North America</td>\n",
       "      <td>1</td>\n",
       "      <td>3</td>\n",
       "      <td>Others</td>\n",
       "      <td>Lose</td>\n",
       "    </tr>\n",
       "    <tr>\n",
       "      <th>2002-02-02</th>\n",
       "      <td>Korea</td>\n",
       "      <td>Asia</td>\n",
       "      <td>Home</td>\n",
       "      <td>Canada</td>\n",
       "      <td>North America</td>\n",
       "      <td>1</td>\n",
       "      <td>2</td>\n",
       "      <td>Others</td>\n",
       "      <td>Lose</td>\n",
       "    </tr>\n",
       "    <tr>\n",
       "      <th>...</th>\n",
       "      <td>...</td>\n",
       "      <td>...</td>\n",
       "      <td>...</td>\n",
       "      <td>...</td>\n",
       "      <td>...</td>\n",
       "      <td>...</td>\n",
       "      <td>...</td>\n",
       "      <td>...</td>\n",
       "      <td>...</td>\n",
       "    </tr>\n",
       "    <tr>\n",
       "      <th>2022-03-29</th>\n",
       "      <td>Korea</td>\n",
       "      <td>Asia</td>\n",
       "      <td>Away</td>\n",
       "      <td>United Arab Emirates</td>\n",
       "      <td>Asia</td>\n",
       "      <td>0</td>\n",
       "      <td>1</td>\n",
       "      <td>Others</td>\n",
       "      <td>Lose</td>\n",
       "    </tr>\n",
       "    <tr>\n",
       "      <th>2022-06-02</th>\n",
       "      <td>Korea</td>\n",
       "      <td>Asia</td>\n",
       "      <td>Away</td>\n",
       "      <td>Brazil</td>\n",
       "      <td>South America</td>\n",
       "      <td>1</td>\n",
       "      <td>5</td>\n",
       "      <td>Frendly</td>\n",
       "      <td>Lose</td>\n",
       "    </tr>\n",
       "    <tr>\n",
       "      <th>2022-06-06</th>\n",
       "      <td>Korea</td>\n",
       "      <td>Asia</td>\n",
       "      <td>Home</td>\n",
       "      <td>Chile</td>\n",
       "      <td>South America</td>\n",
       "      <td>2</td>\n",
       "      <td>0</td>\n",
       "      <td>Frendly</td>\n",
       "      <td>Win</td>\n",
       "    </tr>\n",
       "    <tr>\n",
       "      <th>2022-06-10</th>\n",
       "      <td>Korea</td>\n",
       "      <td>Asia</td>\n",
       "      <td>Home</td>\n",
       "      <td>Paraguay</td>\n",
       "      <td>South America</td>\n",
       "      <td>2</td>\n",
       "      <td>2</td>\n",
       "      <td>Frendly</td>\n",
       "      <td>Draw</td>\n",
       "    </tr>\n",
       "    <tr>\n",
       "      <th>2022-06-14</th>\n",
       "      <td>Korea</td>\n",
       "      <td>Asia</td>\n",
       "      <td>Home</td>\n",
       "      <td>Egypt</td>\n",
       "      <td>Africa</td>\n",
       "      <td>4</td>\n",
       "      <td>1</td>\n",
       "      <td>Frendly</td>\n",
       "      <td>Win</td>\n",
       "    </tr>\n",
       "  </tbody>\n",
       "</table>\n",
       "<p>308 rows × 9 columns</p>\n",
       "</div>"
      ],
      "text/plain": [
       "           nation continent   H/A              oppenent    o_continent  score  \\\n",
       "date                                                                            \n",
       "2002-01-19  Korea      Asia  Home                   USA  North America      1   \n",
       "2002-01-23  Korea      Asia  Away                  Cuba  North America      0   \n",
       "2002-01-27  Korea      Asia  Home                Mexico  North America      0   \n",
       "2002-01-30  Korea      Asia  Home            Costa Rica  North America      1   \n",
       "2002-02-02  Korea      Asia  Home                Canada  North America      1   \n",
       "...           ...       ...   ...                   ...            ...    ...   \n",
       "2022-03-29  Korea      Asia  Away  United Arab Emirates           Asia      0   \n",
       "2022-06-02  Korea      Asia  Away                Brazil  South America      1   \n",
       "2022-06-06  Korea      Asia  Home                 Chile  South America      2   \n",
       "2022-06-10  Korea      Asia  Home              Paraguay  South America      2   \n",
       "2022-06-14  Korea      Asia  Home                 Egypt         Africa      4   \n",
       "\n",
       "            o_score tournament result  \n",
       "date                                   \n",
       "2002-01-19        2     Others   Lose  \n",
       "2002-01-23        0     Others   Draw  \n",
       "2002-01-27        0     Others   Draw  \n",
       "2002-01-30        3     Others   Lose  \n",
       "2002-02-02        2     Others   Lose  \n",
       "...             ...        ...    ...  \n",
       "2022-03-29        1     Others   Lose  \n",
       "2022-06-02        5    Frendly   Lose  \n",
       "2022-06-06        0    Frendly    Win  \n",
       "2022-06-10        2    Frendly   Draw  \n",
       "2022-06-14        1    Frendly    Win  \n",
       "\n",
       "[308 rows x 9 columns]"
      ]
     },
     "execution_count": 21,
     "metadata": {},
     "output_type": "execute_result"
    }
   ],
   "source": [
    "# 한국 데이터 중 2002년도의 데이터만 필터링\n",
    "df_kr.loc['2002':]"
   ]
  },
  {
   "cell_type": "code",
   "execution_count": 22,
   "id": "9b0d2ef0-ffd6-4595-9163-318cd1829710",
   "metadata": {},
   "outputs": [
    {
     "data": {
      "text/plain": [
       "np.float64(0.5)"
      ]
     },
     "execution_count": 22,
     "metadata": {},
     "output_type": "execute_result"
    }
   ],
   "source": [
    "# 승률을 구하기 위한 lambda 함수 만들기 위해 시리즈 생성\n",
    "x = pd.Series(['Win', 'Lose', 'Win', 'Draw'])\n",
    "(x == 'Win').mean()"
   ]
  },
  {
   "cell_type": "code",
   "execution_count": 23,
   "id": "c0478031-1a72-454f-8adc-929670996fbe",
   "metadata": {},
   "outputs": [
    {
     "data": {
      "text/plain": [
       "np.float64(0.5)"
      ]
     },
     "execution_count": 23,
     "metadata": {},
     "output_type": "execute_result"
    }
   ],
   "source": [
    "x.eq('Win').mean()"
   ]
  },
  {
   "cell_type": "code",
   "execution_count": 24,
   "id": "6a4d691b-fa4f-44ca-b68a-30e34052100f",
   "metadata": {},
   "outputs": [
    {
     "data": {
      "text/plain": [
       "o_continent\n",
       "Africa          0.44\n",
       "Asia            0.58\n",
       "Europe          0.37\n",
       "North America   0.40\n",
       "Oceania         0.53\n",
       "South America   0.31\n",
       "Name: result, dtype: float64"
      ]
     },
     "execution_count": 24,
     "metadata": {},
     "output_type": "execute_result"
    }
   ],
   "source": [
    "# 상대 대륙별 한국팀의 승률\n",
    "wp = lambda x:(x=='Win').mean()\n",
    "df_kr.groupby('o_continent')['result'].agg(wp)"
   ]
  },
  {
   "cell_type": "code",
   "execution_count": 25,
   "id": "d82985bc-5ecd-48e9-8ed7-ce6c946c4df4",
   "metadata": {},
   "outputs": [
    {
     "data": {
      "text/html": [
       "<div>\n",
       "<style scoped>\n",
       "    .dataframe tbody tr th:only-of-type {\n",
       "        vertical-align: middle;\n",
       "    }\n",
       "\n",
       "    .dataframe tbody tr th {\n",
       "        vertical-align: top;\n",
       "    }\n",
       "\n",
       "    .dataframe thead th {\n",
       "        text-align: right;\n",
       "    }\n",
       "</style>\n",
       "<table border=\"1\" class=\"dataframe\">\n",
       "  <thead>\n",
       "    <tr style=\"text-align: right;\">\n",
       "      <th></th>\n",
       "      <th>wp</th>\n",
       "      <th>goal per game</th>\n",
       "    </tr>\n",
       "    <tr>\n",
       "      <th>o_continent</th>\n",
       "      <th></th>\n",
       "      <th></th>\n",
       "    </tr>\n",
       "  </thead>\n",
       "  <tbody>\n",
       "    <tr>\n",
       "      <th>Africa</th>\n",
       "      <td>0.44</td>\n",
       "      <td>1.44</td>\n",
       "    </tr>\n",
       "    <tr>\n",
       "      <th>Asia</th>\n",
       "      <td>0.58</td>\n",
       "      <td>1.87</td>\n",
       "    </tr>\n",
       "    <tr>\n",
       "      <th>Europe</th>\n",
       "      <td>0.37</td>\n",
       "      <td>1.29</td>\n",
       "    </tr>\n",
       "    <tr>\n",
       "      <th>North America</th>\n",
       "      <td>0.40</td>\n",
       "      <td>1.34</td>\n",
       "    </tr>\n",
       "    <tr>\n",
       "      <th>Oceania</th>\n",
       "      <td>0.53</td>\n",
       "      <td>1.21</td>\n",
       "    </tr>\n",
       "    <tr>\n",
       "      <th>South America</th>\n",
       "      <td>0.31</td>\n",
       "      <td>1.00</td>\n",
       "    </tr>\n",
       "  </tbody>\n",
       "</table>\n",
       "</div>"
      ],
      "text/plain": [
       "                wp  goal per game\n",
       "o_continent                      \n",
       "Africa        0.44           1.44\n",
       "Asia          0.58           1.87\n",
       "Europe        0.37           1.29\n",
       "North America 0.40           1.34\n",
       "Oceania       0.53           1.21\n",
       "South America 0.31           1.00"
      ]
     },
     "execution_count": 25,
     "metadata": {},
     "output_type": "execute_result"
    }
   ],
   "source": [
    "# 한국의 상대 대륙별 승률과 평균 득점을 동시에\n",
    "(df_kr\n",
    "    .groupby('o_continent').agg({'result':wp, 'score':'mean'})\n",
    "    .set_axis(['wp', 'goal per game'], axis=1))"
   ]
  },
  {
   "cell_type": "code",
   "execution_count": 26,
   "id": "79f16a04-4cd3-459c-8d6d-09f0d494ebc4",
   "metadata": {},
   "outputs": [
    {
     "data": {
      "text/plain": [
       "date\n",
       "1993-12-31   0.43\n",
       "1994-12-31   0.29\n",
       "1995-12-31   0.33\n",
       "1996-12-31   0.47\n",
       "1997-12-31   0.68\n",
       "1998-12-31   0.37\n",
       "1999-12-31   0.20\n",
       "2000-12-31   0.60\n",
       "2001-12-31   0.47\n",
       "2002-12-31   0.26\n",
       "2003-12-31   0.47\n",
       "2004-12-31   0.59\n",
       "2005-12-31   0.35\n",
       "2006-12-31   0.40\n",
       "2007-12-31   0.36\n",
       "2008-12-31   0.53\n",
       "2009-12-31   0.46\n",
       "2010-12-31   0.53\n",
       "2011-12-31   0.59\n",
       "2012-12-31   0.56\n",
       "2013-12-31   0.33\n",
       "2014-12-31   0.33\n",
       "2015-12-31   0.80\n",
       "2016-12-31   0.70\n",
       "2017-12-31   0.31\n",
       "2018-12-31   0.37\n",
       "2019-12-31   0.67\n",
       "2020-12-31   0.50\n",
       "2021-12-31   0.70\n",
       "2022-12-31   0.70\n",
       "Freq: YE-DEC, Name: result, dtype: float64"
      ]
     },
     "execution_count": 26,
     "metadata": {},
     "output_type": "execute_result"
    }
   ],
   "source": [
    "# 시계열은 groupby 대신 resample\n",
    "# 연도별 한국의 승률\n",
    "df_kr.resample('YE')['result'].agg(wp)"
   ]
  },
  {
   "cell_type": "code",
   "execution_count": 27,
   "id": "f403481d-3b5e-4868-b494-b31c614065c1",
   "metadata": {},
   "outputs": [
    {
     "data": {
      "text/plain": [
       "<Axes: xlabel='date'>"
      ]
     },
     "execution_count": 27,
     "metadata": {},
     "output_type": "execute_result"
    },
    {
     "data": {
      "image/png": "[encoded data removed]",
      "text/plain": [
       "<Figure size 640x480 with 1 Axes>"
      ]
     },
     "metadata": {},
     "output_type": "display_data"
    }
   ],
   "source": [
    "df_kr.resample('YE')['result'].agg(wp).plot()"
   ]
  },
  {
   "cell_type": "code",
   "execution_count": 28,
   "id": "d72cff64-146b-42f2-bf5f-3b91d84ce160",
   "metadata": {},
   "outputs": [
    {
     "data": {
      "text/plain": [
       "result\n",
       "Draw   0.39\n",
       "Lose   0.35\n",
       "Win    0.26\n",
       "Name: proportion, dtype: float64"
      ]
     },
     "execution_count": 28,
     "metadata": {},
     "output_type": "execute_result"
    }
   ],
   "source": [
    "# 2002년의 승률 확인\n",
    "df_kr.loc['2002', 'result'].value_counts(normalize=True) # normalize는 비율"
   ]
  },
  {
   "cell_type": "code",
   "execution_count": 29,
   "id": "7827f837-bcc1-4bc6-a089-c899a5e24f3a",
   "metadata": {},
   "outputs": [
    {
     "data": {
      "text/plain": [
       "date\n",
       "1993-12-31   1.57\n",
       "1994-12-31   1.36\n",
       "1995-12-31   1.22\n",
       "1996-12-31   2.33\n",
       "1997-12-31   2.14\n",
       "1998-12-31   1.11\n",
       "1999-12-31   0.80\n",
       "2000-12-31   2.10\n",
       "2001-12-31   1.29\n",
       "2002-12-31   1.09\n",
       "2003-12-31   2.33\n",
       "2004-12-31   1.82\n",
       "2005-12-31   1.24\n",
       "2006-12-31   1.30\n",
       "2007-12-31   0.82\n",
       "2008-12-31   1.73\n",
       "2009-12-31   1.23\n",
       "2010-12-31   1.47\n",
       "2011-12-31   2.06\n",
       "2012-12-31   2.11\n",
       "2013-12-31   1.07\n",
       "2014-12-31   0.87\n",
       "2015-12-31   2.20\n",
       "2016-12-31   1.50\n",
       "2017-12-31   1.23\n",
       "2018-12-31   1.26\n",
       "2019-12-31   1.50\n",
       "2020-12-31   2.00\n",
       "2021-12-31   2.00\n",
       "2022-12-31   2.30\n",
       "Freq: YE-DEC, Name: score, dtype: float64"
      ]
     },
     "execution_count": 29,
     "metadata": {},
     "output_type": "execute_result"
    }
   ],
   "source": [
    "# 연도별 한국의 평균 득점\n",
    "df_kr.resample('YE')['score'].mean()"
   ]
  },
  {
   "cell_type": "code",
   "execution_count": 30,
   "id": "e7b2ca4e-7693-4d33-929d-48ad3a8e9673",
   "metadata": {},
   "outputs": [
    {
     "data": {
      "text/plain": [
       "<Axes: xlabel='date'>"
      ]
     },
     "execution_count": 30,
     "metadata": {},
     "output_type": "execute_result"
    },
    {
     "data": {
      "image/png": "[encoded data removed]",
      "text/plain": [
       "<Figure size 640x480 with 1 Axes>"
      ]
     },
     "metadata": {},
     "output_type": "display_data"
    }
   ],
   "source": [
    "df_kr.resample('YE')['score'].mean().plot()"
   ]
  }
 ],
 "metadata": {
  "kernelspec": {
   "display_name": "data_projects",
   "language": "python",
   "name": "data_projects"
  },
  "language_info": {
   "codemirror_mode": {
    "name": "ipython",
    "version": 3
   },
   "file_extension": ".py",
   "mimetype": "text/x-python",
   "name": "python",
   "nbconvert_exporter": "python",
   "pygments_lexer": "ipython3",
   "version": "3.11.9"
  }
 },
 "nbformat": 4,
 "nbformat_minor": 5
}
